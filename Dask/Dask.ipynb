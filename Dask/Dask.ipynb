{
 "cells": [
  {
   "cell_type": "markdown",
   "id": "892e7f58-54fa-4bfc-91e3-ffc8cfeada0c",
   "metadata": {
    "jp-MarkdownHeadingCollapsed": true
   },
   "source": [
    "## Why Dask?"
   ]
  },
  {
   "cell_type": "code",
   "execution_count": 1,
   "id": "d1f9e1b5-313b-43f9-89f7-0781e33eb232",
   "metadata": {},
   "outputs": [],
   "source": [
    "import numpy as np"
   ]
  },
  {
   "cell_type": "code",
   "execution_count": 2,
   "id": "61b20a85-bdd4-4066-9cd2-7284ee4c6768",
   "metadata": {},
   "outputs": [],
   "source": [
    "# The following numpy array will give MemoryError because of it's size\n",
    "# images = np.ones((10000,10000,10000)) # Creates a 3d array with given dimensions\n",
    "# images"
   ]
  },
  {
   "cell_type": "markdown",
   "id": "92326fd0-f028-4ba7-8f52-6551a71f7b2a",
   "metadata": {
    "jp-MarkdownHeadingCollapsed": true
   },
   "source": [
    "## Basic Dask"
   ]
  },
  {
   "cell_type": "code",
   "execution_count": 3,
   "id": "2393ddcb-026b-44b8-9b69-58489e1b0f2d",
   "metadata": {},
   "outputs": [],
   "source": [
    "import dask.array as da"
   ]
  },
  {
   "cell_type": "code",
   "execution_count": 4,
   "id": "0e65ecac-6b1e-4b63-8a10-0c0aafc07bcc",
   "metadata": {},
   "outputs": [
    {
     "data": {
      "text/html": [
       "<table>\n",
       "    <tr>\n",
       "        <td>\n",
       "            <table style=\"border-collapse: collapse;\">\n",
       "                <thead>\n",
       "                    <tr>\n",
       "                        <td> </td>\n",
       "                        <th> Array </th>\n",
       "                        <th> Chunk </th>\n",
       "                    </tr>\n",
       "                </thead>\n",
       "                <tbody>\n",
       "                    \n",
       "                    <tr>\n",
       "                        <th> Bytes </th>\n",
       "                        <td> 7.28 TiB </td>\n",
       "                        <td> 126.51 MiB </td>\n",
       "                    </tr>\n",
       "                    \n",
       "                    <tr>\n",
       "                        <th> Shape </th>\n",
       "                        <td> (10000, 10000, 10000) </td>\n",
       "                        <td> (255, 255, 255) </td>\n",
       "                    </tr>\n",
       "                    <tr>\n",
       "                        <th> Dask graph </th>\n",
       "                        <td colspan=\"2\"> 64000 chunks in 1 graph layer </td>\n",
       "                    </tr>\n",
       "                    <tr>\n",
       "                        <th> Data type </th>\n",
       "                        <td colspan=\"2\"> float64 numpy.ndarray </td>\n",
       "                    </tr>\n",
       "                </tbody>\n",
       "            </table>\n",
       "        </td>\n",
       "        <td>\n",
       "        <svg width=\"250\" height=\"240\" style=\"stroke:rgb(0,0,0);stroke-width:1\" >\n",
       "\n",
       "  <!-- Horizontal lines -->\n",
       "  <line x1=\"10\" y1=\"0\" x2=\"80\" y2=\"70\" style=\"stroke-width:2\" />\n",
       "  <line x1=\"10\" y1=\"6\" x2=\"80\" y2=\"76\" />\n",
       "  <line x1=\"10\" y1=\"12\" x2=\"80\" y2=\"82\" />\n",
       "  <line x1=\"10\" y1=\"18\" x2=\"80\" y2=\"88\" />\n",
       "  <line x1=\"10\" y1=\"24\" x2=\"80\" y2=\"95\" />\n",
       "  <line x1=\"10\" y1=\"30\" x2=\"80\" y2=\"101\" />\n",
       "  <line x1=\"10\" y1=\"36\" x2=\"80\" y2=\"107\" />\n",
       "  <line x1=\"10\" y1=\"42\" x2=\"80\" y2=\"113\" />\n",
       "  <line x1=\"10\" y1=\"48\" x2=\"80\" y2=\"119\" />\n",
       "  <line x1=\"10\" y1=\"55\" x2=\"80\" y2=\"125\" />\n",
       "  <line x1=\"10\" y1=\"64\" x2=\"80\" y2=\"134\" />\n",
       "  <line x1=\"10\" y1=\"70\" x2=\"80\" y2=\"140\" />\n",
       "  <line x1=\"10\" y1=\"76\" x2=\"80\" y2=\"147\" />\n",
       "  <line x1=\"10\" y1=\"82\" x2=\"80\" y2=\"153\" />\n",
       "  <line x1=\"10\" y1=\"88\" x2=\"80\" y2=\"159\" />\n",
       "  <line x1=\"10\" y1=\"94\" x2=\"80\" y2=\"165\" />\n",
       "  <line x1=\"10\" y1=\"100\" x2=\"80\" y2=\"171\" />\n",
       "  <line x1=\"10\" y1=\"107\" x2=\"80\" y2=\"177\" />\n",
       "  <line x1=\"10\" y1=\"113\" x2=\"80\" y2=\"183\" />\n",
       "  <line x1=\"10\" y1=\"120\" x2=\"80\" y2=\"190\" style=\"stroke-width:2\" />\n",
       "\n",
       "  <!-- Vertical lines -->\n",
       "  <line x1=\"10\" y1=\"0\" x2=\"10\" y2=\"120\" style=\"stroke-width:2\" />\n",
       "  <line x1=\"13\" y1=\"3\" x2=\"13\" y2=\"123\" />\n",
       "  <line x1=\"17\" y1=\"7\" x2=\"17\" y2=\"127\" />\n",
       "  <line x1=\"20\" y1=\"10\" x2=\"20\" y2=\"130\" />\n",
       "  <line x1=\"24\" y1=\"14\" x2=\"24\" y2=\"134\" />\n",
       "  <line x1=\"28\" y1=\"18\" x2=\"28\" y2=\"138\" />\n",
       "  <line x1=\"31\" y1=\"21\" x2=\"31\" y2=\"141\" />\n",
       "  <line x1=\"35\" y1=\"25\" x2=\"35\" y2=\"145\" />\n",
       "  <line x1=\"38\" y1=\"28\" x2=\"38\" y2=\"148\" />\n",
       "  <line x1=\"42\" y1=\"32\" x2=\"42\" y2=\"152\" />\n",
       "  <line x1=\"47\" y1=\"37\" x2=\"47\" y2=\"157\" />\n",
       "  <line x1=\"51\" y1=\"41\" x2=\"51\" y2=\"161\" />\n",
       "  <line x1=\"55\" y1=\"45\" x2=\"55\" y2=\"165\" />\n",
       "  <line x1=\"58\" y1=\"48\" x2=\"58\" y2=\"168\" />\n",
       "  <line x1=\"62\" y1=\"52\" x2=\"62\" y2=\"172\" />\n",
       "  <line x1=\"65\" y1=\"55\" x2=\"65\" y2=\"175\" />\n",
       "  <line x1=\"69\" y1=\"59\" x2=\"69\" y2=\"179\" />\n",
       "  <line x1=\"73\" y1=\"63\" x2=\"73\" y2=\"183\" />\n",
       "  <line x1=\"76\" y1=\"66\" x2=\"76\" y2=\"186\" />\n",
       "  <line x1=\"80\" y1=\"70\" x2=\"80\" y2=\"190\" style=\"stroke-width:2\" />\n",
       "\n",
       "  <!-- Colored Rectangle -->\n",
       "  <polygon points=\"10.0,0.0 80.58823529411765,70.58823529411765 80.58823529411765,190.58823529411765 10.0,120.0\" style=\"fill:#8B4903A0;stroke-width:0\"/>\n",
       "\n",
       "  <!-- Horizontal lines -->\n",
       "  <line x1=\"10\" y1=\"0\" x2=\"130\" y2=\"0\" style=\"stroke-width:2\" />\n",
       "  <line x1=\"13\" y1=\"3\" x2=\"133\" y2=\"3\" />\n",
       "  <line x1=\"17\" y1=\"7\" x2=\"137\" y2=\"7\" />\n",
       "  <line x1=\"20\" y1=\"10\" x2=\"140\" y2=\"10\" />\n",
       "  <line x1=\"24\" y1=\"14\" x2=\"144\" y2=\"14\" />\n",
       "  <line x1=\"28\" y1=\"18\" x2=\"148\" y2=\"18\" />\n",
       "  <line x1=\"31\" y1=\"21\" x2=\"151\" y2=\"21\" />\n",
       "  <line x1=\"35\" y1=\"25\" x2=\"155\" y2=\"25\" />\n",
       "  <line x1=\"38\" y1=\"28\" x2=\"158\" y2=\"28\" />\n",
       "  <line x1=\"42\" y1=\"32\" x2=\"162\" y2=\"32\" />\n",
       "  <line x1=\"47\" y1=\"37\" x2=\"167\" y2=\"37\" />\n",
       "  <line x1=\"51\" y1=\"41\" x2=\"171\" y2=\"41\" />\n",
       "  <line x1=\"55\" y1=\"45\" x2=\"175\" y2=\"45\" />\n",
       "  <line x1=\"58\" y1=\"48\" x2=\"178\" y2=\"48\" />\n",
       "  <line x1=\"62\" y1=\"52\" x2=\"182\" y2=\"52\" />\n",
       "  <line x1=\"65\" y1=\"55\" x2=\"185\" y2=\"55\" />\n",
       "  <line x1=\"69\" y1=\"59\" x2=\"189\" y2=\"59\" />\n",
       "  <line x1=\"73\" y1=\"63\" x2=\"193\" y2=\"63\" />\n",
       "  <line x1=\"76\" y1=\"66\" x2=\"196\" y2=\"66\" />\n",
       "  <line x1=\"80\" y1=\"70\" x2=\"200\" y2=\"70\" style=\"stroke-width:2\" />\n",
       "\n",
       "  <!-- Vertical lines -->\n",
       "  <line x1=\"10\" y1=\"0\" x2=\"80\" y2=\"70\" style=\"stroke-width:2\" />\n",
       "  <line x1=\"16\" y1=\"0\" x2=\"86\" y2=\"70\" />\n",
       "  <line x1=\"22\" y1=\"0\" x2=\"92\" y2=\"70\" />\n",
       "  <line x1=\"28\" y1=\"0\" x2=\"98\" y2=\"70\" />\n",
       "  <line x1=\"34\" y1=\"0\" x2=\"105\" y2=\"70\" />\n",
       "  <line x1=\"40\" y1=\"0\" x2=\"111\" y2=\"70\" />\n",
       "  <line x1=\"46\" y1=\"0\" x2=\"117\" y2=\"70\" />\n",
       "  <line x1=\"52\" y1=\"0\" x2=\"123\" y2=\"70\" />\n",
       "  <line x1=\"58\" y1=\"0\" x2=\"129\" y2=\"70\" />\n",
       "  <line x1=\"65\" y1=\"0\" x2=\"135\" y2=\"70\" />\n",
       "  <line x1=\"74\" y1=\"0\" x2=\"144\" y2=\"70\" />\n",
       "  <line x1=\"80\" y1=\"0\" x2=\"150\" y2=\"70\" />\n",
       "  <line x1=\"86\" y1=\"0\" x2=\"157\" y2=\"70\" />\n",
       "  <line x1=\"92\" y1=\"0\" x2=\"163\" y2=\"70\" />\n",
       "  <line x1=\"98\" y1=\"0\" x2=\"169\" y2=\"70\" />\n",
       "  <line x1=\"104\" y1=\"0\" x2=\"175\" y2=\"70\" />\n",
       "  <line x1=\"110\" y1=\"0\" x2=\"181\" y2=\"70\" />\n",
       "  <line x1=\"117\" y1=\"0\" x2=\"187\" y2=\"70\" />\n",
       "  <line x1=\"123\" y1=\"0\" x2=\"193\" y2=\"70\" />\n",
       "  <line x1=\"130\" y1=\"0\" x2=\"200\" y2=\"70\" style=\"stroke-width:2\" />\n",
       "\n",
       "  <!-- Colored Rectangle -->\n",
       "  <polygon points=\"10.0,0.0 130.0,0.0 200.58823529411765,70.58823529411765 80.58823529411765,70.58823529411765\" style=\"fill:#8B4903A0;stroke-width:0\"/>\n",
       "\n",
       "  <!-- Horizontal lines -->\n",
       "  <line x1=\"80\" y1=\"70\" x2=\"200\" y2=\"70\" style=\"stroke-width:2\" />\n",
       "  <line x1=\"80\" y1=\"76\" x2=\"200\" y2=\"76\" />\n",
       "  <line x1=\"80\" y1=\"82\" x2=\"200\" y2=\"82\" />\n",
       "  <line x1=\"80\" y1=\"88\" x2=\"200\" y2=\"88\" />\n",
       "  <line x1=\"80\" y1=\"95\" x2=\"200\" y2=\"95\" />\n",
       "  <line x1=\"80\" y1=\"101\" x2=\"200\" y2=\"101\" />\n",
       "  <line x1=\"80\" y1=\"107\" x2=\"200\" y2=\"107\" />\n",
       "  <line x1=\"80\" y1=\"113\" x2=\"200\" y2=\"113\" />\n",
       "  <line x1=\"80\" y1=\"119\" x2=\"200\" y2=\"119\" />\n",
       "  <line x1=\"80\" y1=\"125\" x2=\"200\" y2=\"125\" />\n",
       "  <line x1=\"80\" y1=\"134\" x2=\"200\" y2=\"134\" />\n",
       "  <line x1=\"80\" y1=\"140\" x2=\"200\" y2=\"140\" />\n",
       "  <line x1=\"80\" y1=\"147\" x2=\"200\" y2=\"147\" />\n",
       "  <line x1=\"80\" y1=\"153\" x2=\"200\" y2=\"153\" />\n",
       "  <line x1=\"80\" y1=\"159\" x2=\"200\" y2=\"159\" />\n",
       "  <line x1=\"80\" y1=\"165\" x2=\"200\" y2=\"165\" />\n",
       "  <line x1=\"80\" y1=\"171\" x2=\"200\" y2=\"171\" />\n",
       "  <line x1=\"80\" y1=\"177\" x2=\"200\" y2=\"177\" />\n",
       "  <line x1=\"80\" y1=\"183\" x2=\"200\" y2=\"183\" />\n",
       "  <line x1=\"80\" y1=\"190\" x2=\"200\" y2=\"190\" style=\"stroke-width:2\" />\n",
       "\n",
       "  <!-- Vertical lines -->\n",
       "  <line x1=\"80\" y1=\"70\" x2=\"80\" y2=\"190\" style=\"stroke-width:2\" />\n",
       "  <line x1=\"86\" y1=\"70\" x2=\"86\" y2=\"190\" />\n",
       "  <line x1=\"92\" y1=\"70\" x2=\"92\" y2=\"190\" />\n",
       "  <line x1=\"98\" y1=\"70\" x2=\"98\" y2=\"190\" />\n",
       "  <line x1=\"105\" y1=\"70\" x2=\"105\" y2=\"190\" />\n",
       "  <line x1=\"111\" y1=\"70\" x2=\"111\" y2=\"190\" />\n",
       "  <line x1=\"117\" y1=\"70\" x2=\"117\" y2=\"190\" />\n",
       "  <line x1=\"123\" y1=\"70\" x2=\"123\" y2=\"190\" />\n",
       "  <line x1=\"129\" y1=\"70\" x2=\"129\" y2=\"190\" />\n",
       "  <line x1=\"135\" y1=\"70\" x2=\"135\" y2=\"190\" />\n",
       "  <line x1=\"144\" y1=\"70\" x2=\"144\" y2=\"190\" />\n",
       "  <line x1=\"150\" y1=\"70\" x2=\"150\" y2=\"190\" />\n",
       "  <line x1=\"157\" y1=\"70\" x2=\"157\" y2=\"190\" />\n",
       "  <line x1=\"163\" y1=\"70\" x2=\"163\" y2=\"190\" />\n",
       "  <line x1=\"169\" y1=\"70\" x2=\"169\" y2=\"190\" />\n",
       "  <line x1=\"175\" y1=\"70\" x2=\"175\" y2=\"190\" />\n",
       "  <line x1=\"181\" y1=\"70\" x2=\"181\" y2=\"190\" />\n",
       "  <line x1=\"187\" y1=\"70\" x2=\"187\" y2=\"190\" />\n",
       "  <line x1=\"193\" y1=\"70\" x2=\"193\" y2=\"190\" />\n",
       "  <line x1=\"200\" y1=\"70\" x2=\"200\" y2=\"190\" style=\"stroke-width:2\" />\n",
       "\n",
       "  <!-- Colored Rectangle -->\n",
       "  <polygon points=\"80.58823529411765,70.58823529411765 200.58823529411765,70.58823529411765 200.58823529411765,190.58823529411765 80.58823529411765,190.58823529411765\" style=\"fill:#8B4903A0;stroke-width:0\"/>\n",
       "\n",
       "  <!-- Text -->\n",
       "  <text x=\"140.588235\" y=\"210.588235\" font-size=\"1.0rem\" font-weight=\"100\" text-anchor=\"middle\" >10000</text>\n",
       "  <text x=\"220.588235\" y=\"130.588235\" font-size=\"1.0rem\" font-weight=\"100\" text-anchor=\"middle\" transform=\"rotate(-90,220.588235,130.588235)\">10000</text>\n",
       "  <text x=\"35.294118\" y=\"175.294118\" font-size=\"1.0rem\" font-weight=\"100\" text-anchor=\"middle\" transform=\"rotate(45,35.294118,175.294118)\">10000</text>\n",
       "</svg>\n",
       "        </td>\n",
       "    </tr>\n",
       "</table>"
      ],
      "text/plain": [
       "dask.array<ones_like, shape=(10000, 10000, 10000), dtype=float64, chunksize=(255, 255, 255), chunktype=numpy.ndarray>"
      ]
     },
     "execution_count": 4,
     "metadata": {},
     "output_type": "execute_result"
    }
   ],
   "source": [
    " # Creates a 3d array with given dimensions\n",
    "images = da.ones((10000,10000,10000))\n",
    "images"
   ]
  },
  {
   "cell_type": "code",
   "execution_count": 5,
   "id": "db28a640-144f-49fd-83e7-716a2278737a",
   "metadata": {},
   "outputs": [
    {
     "data": {
      "text/html": [
       "<table>\n",
       "    <tr>\n",
       "        <td>\n",
       "            <table style=\"border-collapse: collapse;\">\n",
       "                <thead>\n",
       "                    <tr>\n",
       "                        <td> </td>\n",
       "                        <th> Array </th>\n",
       "                        <th> Chunk </th>\n",
       "                    </tr>\n",
       "                </thead>\n",
       "                <tbody>\n",
       "                    \n",
       "                    <tr>\n",
       "                        <th> Bytes </th>\n",
       "                        <td> 800 B </td>\n",
       "                        <td> 80 B </td>\n",
       "                    </tr>\n",
       "                    \n",
       "                    <tr>\n",
       "                        <th> Shape </th>\n",
       "                        <td> (100,) </td>\n",
       "                        <td> (10,) </td>\n",
       "                    </tr>\n",
       "                    <tr>\n",
       "                        <th> Dask graph </th>\n",
       "                        <td colspan=\"2\"> 10 chunks in 1 graph layer </td>\n",
       "                    </tr>\n",
       "                    <tr>\n",
       "                        <th> Data type </th>\n",
       "                        <td colspan=\"2\"> float64 numpy.ndarray </td>\n",
       "                    </tr>\n",
       "                </tbody>\n",
       "            </table>\n",
       "        </td>\n",
       "        <td>\n",
       "        <svg width=\"170\" height=\"75\" style=\"stroke:rgb(0,0,0);stroke-width:1\" >\n",
       "\n",
       "  <!-- Horizontal lines -->\n",
       "  <line x1=\"0\" y1=\"0\" x2=\"120\" y2=\"0\" style=\"stroke-width:2\" />\n",
       "  <line x1=\"0\" y1=\"25\" x2=\"120\" y2=\"25\" style=\"stroke-width:2\" />\n",
       "\n",
       "  <!-- Vertical lines -->\n",
       "  <line x1=\"0\" y1=\"0\" x2=\"0\" y2=\"25\" style=\"stroke-width:2\" />\n",
       "  <line x1=\"12\" y1=\"0\" x2=\"12\" y2=\"25\" />\n",
       "  <line x1=\"24\" y1=\"0\" x2=\"24\" y2=\"25\" />\n",
       "  <line x1=\"36\" y1=\"0\" x2=\"36\" y2=\"25\" />\n",
       "  <line x1=\"48\" y1=\"0\" x2=\"48\" y2=\"25\" />\n",
       "  <line x1=\"60\" y1=\"0\" x2=\"60\" y2=\"25\" />\n",
       "  <line x1=\"72\" y1=\"0\" x2=\"72\" y2=\"25\" />\n",
       "  <line x1=\"84\" y1=\"0\" x2=\"84\" y2=\"25\" />\n",
       "  <line x1=\"96\" y1=\"0\" x2=\"96\" y2=\"25\" />\n",
       "  <line x1=\"108\" y1=\"0\" x2=\"108\" y2=\"25\" />\n",
       "  <line x1=\"120\" y1=\"0\" x2=\"120\" y2=\"25\" style=\"stroke-width:2\" />\n",
       "\n",
       "  <!-- Colored Rectangle -->\n",
       "  <polygon points=\"0.0,0.0 120.0,0.0 120.0,25.412616514582485 0.0,25.412616514582485\" style=\"fill:#ECB172A0;stroke-width:0\"/>\n",
       "\n",
       "  <!-- Text -->\n",
       "  <text x=\"60.000000\" y=\"45.412617\" font-size=\"1.0rem\" font-weight=\"100\" text-anchor=\"middle\" >100</text>\n",
       "  <text x=\"140.000000\" y=\"12.706308\" font-size=\"1.0rem\" font-weight=\"100\" text-anchor=\"middle\" transform=\"rotate(0,140.000000,12.706308)\">1</text>\n",
       "</svg>\n",
       "        </td>\n",
       "    </tr>\n",
       "</table>"
      ],
      "text/plain": [
       "dask.array<ones_like, shape=(100,), dtype=float64, chunksize=(10,), chunktype=numpy.ndarray>"
      ]
     },
     "execution_count": 5,
     "metadata": {},
     "output_type": "execute_result"
    }
   ],
   "source": [
    "# Create dask array with user defined chunks\n",
    "x = da.ones((100,), chunks=(10,))\n",
    "x"
   ]
  },
  {
   "cell_type": "code",
   "execution_count": 6,
   "id": "a811d6c8-840a-4f38-a5bd-663825840f25",
   "metadata": {},
   "outputs": [
    {
     "name": "stdout",
     "output_type": "stream",
     "text": [
      "100.0\n"
     ]
    }
   ],
   "source": [
    "# Dask has lazy-computation until compute() call it will not execute\n",
    "result = x.sum()\n",
    "print(result.compute())"
   ]
  },
  {
   "cell_type": "code",
   "execution_count": 7,
   "id": "bf8f6ae6-81bb-4cd3-be48-ab699db34804",
   "metadata": {},
   "outputs": [
    {
     "data": {
      "text/html": [
       "<table>\n",
       "    <tr>\n",
       "        <td>\n",
       "            <table style=\"border-collapse: collapse;\">\n",
       "                <thead>\n",
       "                    <tr>\n",
       "                        <td> </td>\n",
       "                        <th> Array </th>\n",
       "                        <th> Chunk </th>\n",
       "                    </tr>\n",
       "                </thead>\n",
       "                <tbody>\n",
       "                    \n",
       "                    <tr>\n",
       "                        <th> Bytes </th>\n",
       "                        <td> 781.25 kiB </td>\n",
       "                        <td> 78.12 kiB </td>\n",
       "                    </tr>\n",
       "                    \n",
       "                    <tr>\n",
       "                        <th> Shape </th>\n",
       "                        <td> (200, 500) </td>\n",
       "                        <td> (100, 100) </td>\n",
       "                    </tr>\n",
       "                    <tr>\n",
       "                        <th> Dask graph </th>\n",
       "                        <td colspan=\"2\"> 10 chunks in 1 graph layer </td>\n",
       "                    </tr>\n",
       "                    <tr>\n",
       "                        <th> Data type </th>\n",
       "                        <td colspan=\"2\"> int64 numpy.ndarray </td>\n",
       "                    </tr>\n",
       "                </tbody>\n",
       "            </table>\n",
       "        </td>\n",
       "        <td>\n",
       "        <svg width=\"170\" height=\"98\" style=\"stroke:rgb(0,0,0);stroke-width:1\" >\n",
       "\n",
       "  <!-- Horizontal lines -->\n",
       "  <line x1=\"0\" y1=\"0\" x2=\"120\" y2=\"0\" style=\"stroke-width:2\" />\n",
       "  <line x1=\"0\" y1=\"24\" x2=\"120\" y2=\"24\" />\n",
       "  <line x1=\"0\" y1=\"48\" x2=\"120\" y2=\"48\" style=\"stroke-width:2\" />\n",
       "\n",
       "  <!-- Vertical lines -->\n",
       "  <line x1=\"0\" y1=\"0\" x2=\"0\" y2=\"48\" style=\"stroke-width:2\" />\n",
       "  <line x1=\"24\" y1=\"0\" x2=\"24\" y2=\"48\" />\n",
       "  <line x1=\"48\" y1=\"0\" x2=\"48\" y2=\"48\" />\n",
       "  <line x1=\"72\" y1=\"0\" x2=\"72\" y2=\"48\" />\n",
       "  <line x1=\"96\" y1=\"0\" x2=\"96\" y2=\"48\" />\n",
       "  <line x1=\"120\" y1=\"0\" x2=\"120\" y2=\"48\" style=\"stroke-width:2\" />\n",
       "\n",
       "  <!-- Colored Rectangle -->\n",
       "  <polygon points=\"0.0,0.0 120.0,0.0 120.0,48.0 0.0,48.0\" style=\"fill:#ECB172A0;stroke-width:0\"/>\n",
       "\n",
       "  <!-- Text -->\n",
       "  <text x=\"60.000000\" y=\"68.000000\" font-size=\"1.0rem\" font-weight=\"100\" text-anchor=\"middle\" >500</text>\n",
       "  <text x=\"140.000000\" y=\"24.000000\" font-size=\"1.0rem\" font-weight=\"100\" text-anchor=\"middle\" transform=\"rotate(-90,140.000000,24.000000)\">200</text>\n",
       "</svg>\n",
       "        </td>\n",
       "    </tr>\n",
       "</table>"
      ],
      "text/plain": [
       "dask.array<array, shape=(200, 500), dtype=int64, chunksize=(100, 100), chunktype=numpy.ndarray>"
      ]
     },
     "execution_count": 7,
     "metadata": {},
     "output_type": "execute_result"
    }
   ],
   "source": [
    "# Create a Dask array from an predefined numpy array\n",
    "data = np.arange(100000).reshape(200, 500)\n",
    "a = da.from_array(data, chunks=(100, 100))\n",
    "a"
   ]
  },
  {
   "cell_type": "code",
   "execution_count": 8,
   "id": "0026af83-b949-4e43-bc5a-852fbe3f9afa",
   "metadata": {},
   "outputs": [
    {
     "data": {
      "text/plain": [
       "((100, 100), (100, 100, 100, 100, 100))"
      ]
     },
     "execution_count": 8,
     "metadata": {},
     "output_type": "execute_result"
    }
   ],
   "source": [
    "# show the chunk structure\n",
    "a.chunks"
   ]
  },
  {
   "cell_type": "code",
   "execution_count": 9,
   "id": "6d37aad6-5628-4d29-a1e4-2a6a4760ee2d",
   "metadata": {},
   "outputs": [
    {
     "data": {
      "text/html": [
       "<table>\n",
       "    <tr>\n",
       "        <td>\n",
       "            <table style=\"border-collapse: collapse;\">\n",
       "                <thead>\n",
       "                    <tr>\n",
       "                        <td> </td>\n",
       "                        <th> Array </th>\n",
       "                        <th> Chunk </th>\n",
       "                    </tr>\n",
       "                </thead>\n",
       "                <tbody>\n",
       "                    \n",
       "                    <tr>\n",
       "                        <th> Bytes </th>\n",
       "                        <td> 78.12 kiB </td>\n",
       "                        <td> 78.12 kiB </td>\n",
       "                    </tr>\n",
       "                    \n",
       "                    <tr>\n",
       "                        <th> Shape </th>\n",
       "                        <td> (100, 100) </td>\n",
       "                        <td> (100, 100) </td>\n",
       "                    </tr>\n",
       "                    <tr>\n",
       "                        <th> Dask graph </th>\n",
       "                        <td colspan=\"2\"> 1 chunks in 2 graph layers </td>\n",
       "                    </tr>\n",
       "                    <tr>\n",
       "                        <th> Data type </th>\n",
       "                        <td colspan=\"2\"> int64 numpy.ndarray </td>\n",
       "                    </tr>\n",
       "                </tbody>\n",
       "            </table>\n",
       "        </td>\n",
       "        <td>\n",
       "        <svg width=\"170\" height=\"170\" style=\"stroke:rgb(0,0,0);stroke-width:1\" >\n",
       "\n",
       "  <!-- Horizontal lines -->\n",
       "  <line x1=\"0\" y1=\"0\" x2=\"120\" y2=\"0\" style=\"stroke-width:2\" />\n",
       "  <line x1=\"0\" y1=\"120\" x2=\"120\" y2=\"120\" style=\"stroke-width:2\" />\n",
       "\n",
       "  <!-- Vertical lines -->\n",
       "  <line x1=\"0\" y1=\"0\" x2=\"0\" y2=\"120\" style=\"stroke-width:2\" />\n",
       "  <line x1=\"120\" y1=\"0\" x2=\"120\" y2=\"120\" style=\"stroke-width:2\" />\n",
       "\n",
       "  <!-- Colored Rectangle -->\n",
       "  <polygon points=\"0.0,0.0 120.0,0.0 120.0,120.0 0.0,120.0\" style=\"fill:#ECB172A0;stroke-width:0\"/>\n",
       "\n",
       "  <!-- Text -->\n",
       "  <text x=\"60.000000\" y=\"140.000000\" font-size=\"1.0rem\" font-weight=\"100\" text-anchor=\"middle\" >100</text>\n",
       "  <text x=\"140.000000\" y=\"60.000000\" font-size=\"1.0rem\" font-weight=\"100\" text-anchor=\"middle\" transform=\"rotate(-90,140.000000,60.000000)\">100</text>\n",
       "</svg>\n",
       "        </td>\n",
       "    </tr>\n",
       "</table>"
      ],
      "text/plain": [
       "dask.array<blocks, shape=(100, 100), dtype=int64, chunksize=(100, 100), chunktype=numpy.ndarray>"
      ]
     },
     "execution_count": 9,
     "metadata": {},
     "output_type": "execute_result"
    }
   ],
   "source": [
    "# Access a specific chunk\n",
    "a.blocks[0, 4]"
   ]
  },
  {
   "cell_type": "code",
   "execution_count": 23,
   "id": "91813d21-5082-46c3-998a-33a95c9b42d2",
   "metadata": {},
   "outputs": [
    {
     "name": "stdout",
     "output_type": "stream",
     "text": [
      "Array:\n",
      " [[ 0 20 30]\n",
      " [40 50 60]\n",
      " [70 80 90]]\n",
      "\n",
      "Chunk Structure:\n",
      " ((2, 1), (2, 1))\n"
     ]
    }
   ],
   "source": [
    "# Create a Dask array\n",
    "a = da.from_array([[0, 20, 30], [40, 50, 60], [70, 80, 90]], chunks=(2, 2))\n",
    "print(\"Array:\\n\", a.compute())\n",
    "print(\"\\nChunk Structure:\\n\", a.chunks)"
   ]
  },
  {
   "cell_type": "markdown",
   "id": "9ade5386-0b6a-44db-830b-3da2b1649650",
   "metadata": {
    "jp-MarkdownHeadingCollapsed": true
   },
   "source": [
    "## Indexing"
   ]
  },
  {
   "cell_type": "code",
   "execution_count": 24,
   "id": "74a9d8c2-fd5a-4a9e-b90e-fb54805bdb13",
   "metadata": {},
   "outputs": [
    {
     "name": "stdout",
     "output_type": "stream",
     "text": [
      "Single element: 60\n"
     ]
    }
   ],
   "source": [
    "# Indexing to get a single element\n",
    "element = a[1, 2].compute()\n",
    "print(\"Single element:\", element)"
   ]
  },
  {
   "cell_type": "code",
   "execution_count": 25,
   "id": "add8b6c1-ffe9-45f3-995f-8e7f74b31c83",
   "metadata": {},
   "outputs": [
    {
     "name": "stdout",
     "output_type": "stream",
     "text": [
      "Sliced along the first dimension:\n",
      " [30]\n"
     ]
    }
   ],
   "source": [
    "# Slicing along the first dimension\n",
    "slice_result = a[:1, 2].compute()\n",
    "print(\"Sliced along the first dimension:\\n\", slice_result)"
   ]
  },
  {
   "cell_type": "code",
   "execution_count": 26,
   "id": "b9b73d58-30e8-4548-afd9-e93e0027bc7b",
   "metadata": {},
   "outputs": [
    {
     "name": "stdout",
     "output_type": "stream",
     "text": [
      "Sliced along the second dimension:\n",
      " [[20 30]\n",
      " [50 60]\n",
      " [80 90]]\n"
     ]
    }
   ],
   "source": [
    "# Slicing along the second dimension\n",
    "slice_result = a[:, 1:].compute()\n",
    "print(\"Sliced along the second dimension:\\n\", slice_result)"
   ]
  },
  {
   "cell_type": "markdown",
   "id": "6952c0e7-6f5d-44b4-a760-cff2b4e9e664",
   "metadata": {
    "jp-MarkdownHeadingCollapsed": true
   },
   "source": [
    "## Statistics"
   ]
  },
  {
   "cell_type": "code",
   "execution_count": 11,
   "id": "d6b83238-cbbb-4e19-8ad1-5ceefd78db18",
   "metadata": {},
   "outputs": [
    {
     "data": {
      "text/plain": [
       "48.888888888888886"
      ]
     },
     "execution_count": 11,
     "metadata": {},
     "output_type": "execute_result"
    }
   ],
   "source": [
    "# Finding average of the whole array\n",
    "a.mean().compute()"
   ]
  },
  {
   "cell_type": "code",
   "execution_count": 12,
   "id": "da0f87ba-faf9-4d42-a67f-64cacc258867",
   "metadata": {},
   "outputs": [
    {
     "data": {
      "text/plain": [
       "440"
      ]
     },
     "execution_count": 12,
     "metadata": {},
     "output_type": "execute_result"
    }
   ],
   "source": [
    "# Finding sum of all elements in array\n",
    "result = a.sum()\n",
    "result.compute()"
   ]
  },
  {
   "cell_type": "code",
   "execution_count": 13,
   "id": "92316bdd-e010-4957-8f9f-35de0bd5929f",
   "metadata": {},
   "outputs": [
    {
     "data": {
      "text/plain": [
       "array([[ 0.        ,  0.91294525, -0.98803162],\n",
       "       [ 0.74511316, -0.26237485, -0.30481062],\n",
       "       [ 0.77389068, -0.99388865,  0.89399666]])"
      ]
     },
     "execution_count": 13,
     "metadata": {},
     "output_type": "execute_result"
    }
   ],
   "source": [
    "# Compute sin value of each element\n",
    "np.sin(a).compute()"
   ]
  },
  {
   "cell_type": "code",
   "execution_count": 14,
   "id": "bb674cbb-b5e3-451b-90dd-ff33c5c327af",
   "metadata": {},
   "outputs": [
    {
     "data": {
      "text/plain": [
       "array([[ 0, 40, 70],\n",
       "       [20, 50, 80],\n",
       "       [30, 60, 90]])"
      ]
     },
     "execution_count": 14,
     "metadata": {},
     "output_type": "execute_result"
    }
   ],
   "source": [
    "# Transpose\n",
    "a.T.compute()"
   ]
  },
  {
   "cell_type": "code",
   "execution_count": 18,
   "id": "e61daa8c-cb01-49fd-82a3-09fae0316083",
   "metadata": {},
   "outputs": [
    {
     "name": "stdout",
     "output_type": "stream",
     "text": [
      "Sum of Elements: 45\n",
      "\n",
      "Mean of Elements: 5.0\n",
      "\n",
      "Maximum Element: 9\n"
     ]
    }
   ],
   "source": [
    "# Sum\n",
    "result_sum = a.sum()\n",
    "print(\"Sum of Elements:\", result_sum.compute())\n",
    "\n",
    "# Mean\n",
    "result_mean = a.mean()\n",
    "print(\"\\nMean of Elements:\", result_mean.compute())\n",
    "\n",
    "# Maximum\n",
    "result_max = a.max()\n",
    "print(\"\\nMaximum Element:\", result_max.compute())"
   ]
  },
  {
   "cell_type": "code",
   "execution_count": null,
   "id": "b8cb35ab-ff1a-4ec5-97b1-b3d0ab5926ae",
   "metadata": {},
   "outputs": [],
   "source": [
    "# Dot product\n",
    "result_dot = da.dot(a, b)\n",
    "print(\"Dot Product:\\n\", result_dot.compute())\n",
    "\n",
    "# Singular value decomposition\n",
    "# result_svd = da.linalg.svd(a)\n",
    "# print(\"\\nSingular Value Decomposition:\\n\", result_svd)"
   ]
  },
  {
   "cell_type": "code",
   "execution_count": null,
   "id": "f83d8989-c2c1-45a9-9e09-32e1a54950d9",
   "metadata": {},
   "outputs": [],
   "source": [
    "# Dot product\n",
    "result_dot = da.dot(a, b)\n",
    "print(\"Dot Product:\\n\", result_dot.compute())\n",
    "\n",
    "# Singular value decomposition (Not implemented in Dask)\n",
    "# Use NumPy for SVD\n",
    "import numpy as np\n",
    "u, s, vt = np.linalg.svd(a.compute())\n",
    "print(\"\\nSingular Value Decomposition (NumPy):\\n\", u, s, vt)"
   ]
  },
  {
   "cell_type": "code",
   "execution_count": null,
   "id": "1c2770ac-9051-403e-906c-270ad0f20d73",
   "metadata": {},
   "outputs": [],
   "source": [
    "# Random normal distribution\n",
    "result_random_normal = da.random.normal(size=(3, 3), chunks=(2, 2))\n",
    "print(\"Random Normal Distribution:\\n\", result_random_normal.compute())\n",
    "\n",
    "# Random uniform distribution\n",
    "result_random_uniform = da.random.uniform(size=(3, 3), chunks=(2, 2))\n",
    "print(\"\\nRandom Uniform Distribution:\\n\", result_random_uniform.compute())"
   ]
  },
  {
   "cell_type": "code",
   "execution_count": 39,
   "id": "40d0501f-862f-4203-b604-0d3f06c10eee",
   "metadata": {},
   "outputs": [
    {
     "name": "stdout",
     "output_type": "stream",
     "text": [
      "2.581988897471611\n",
      "6.666666666666667\n",
      "0\n",
      "8\n"
     ]
    }
   ],
   "source": [
    "# Compute the standard deviation.\n",
    "result_std = a.std()\n",
    "print(result_std.compute())\n",
    "\n",
    "# Compute the variance.\n",
    "result_var = a.var()\n",
    "print(result_var.compute())\n",
    "\n",
    "# Indices of the minimum and maximum elements.\n",
    "result_argmin = a.argmin()\n",
    "result_argmax = a.argmax()\n",
    "print(result_argmin.compute())\n",
    "print(result_argmax.compute())"
   ]
  },
  {
   "cell_type": "markdown",
   "id": "2ee5ed19-d6c2-4a7c-8b7d-39a68466f89a",
   "metadata": {
    "jp-MarkdownHeadingCollapsed": true
   },
   "source": [
    "## Create random array"
   ]
  },
  {
   "cell_type": "code",
   "execution_count": 15,
   "id": "770a6966-6b68-4bff-9cec-b30f7bb172e1",
   "metadata": {},
   "outputs": [
    {
     "name": "stdout",
     "output_type": "stream",
     "text": [
      "\n",
      "Random Array:\n",
      " [[-0.1303064  -2.11158956  1.04618388]\n",
      " [ 0.35214228  0.69922617  0.96844703]\n",
      " [-1.51867736 -0.33832875  0.35890898]]\n"
     ]
    }
   ],
   "source": [
    "result_random = da.random.normal(size=(3, 3), chunks=(2, 2))\n",
    "print(\"\\nRandom Array:\\n\", result_random.compute())"
   ]
  },
  {
   "cell_type": "markdown",
   "id": "91c2ecf4-6e73-4d16-ba9d-785309fa1738",
   "metadata": {
    "jp-MarkdownHeadingCollapsed": true
   },
   "source": [
    "## Arithmetic Operations"
   ]
  },
  {
   "cell_type": "code",
   "execution_count": 30,
   "id": "b8d5e5e3-78bd-43a3-87f3-65191aaf72e6",
   "metadata": {},
   "outputs": [
    {
     "name": "stdout",
     "output_type": "stream",
     "text": [
      "First Array:\n",
      " [[1 2 3]\n",
      " [4 5 6]\n",
      " [7 8 9]]\n",
      "\n",
      "Second Array:\n",
      " [[9 8 7]\n",
      " [6 5 4]\n",
      " [3 2 1]]\n"
     ]
    }
   ],
   "source": [
    "# Create Dask arrays\n",
    "a = da.from_array([[1, 2, 3], [4, 5, 6], [7, 8, 9]], chunks=(2, 2))\n",
    "b = da.from_array([[9, 8, 7], [6, 5, 4], [3, 2, 1]], chunks=(2, 2))\n",
    "print(\"First Array:\\n\", a.compute())\n",
    "print(\"\\nSecond Array:\\n\", b.compute())"
   ]
  },
  {
   "cell_type": "code",
   "execution_count": 31,
   "id": "798c523b-a6e5-4402-911c-4ca1f42ea374",
   "metadata": {},
   "outputs": [
    {
     "name": "stdout",
     "output_type": "stream",
     "text": [
      "Addition:\n",
      " [[10 10 10]\n",
      " [10 10 10]\n",
      " [10 10 10]]\n"
     ]
    }
   ],
   "source": [
    "# Addition\n",
    "result_add = a + b\n",
    "print(\"Addition:\\n\", result_add.compute())"
   ]
  },
  {
   "cell_type": "code",
   "execution_count": 32,
   "id": "270824a4-0431-4ac9-a450-9fbbb0399b5b",
   "metadata": {},
   "outputs": [
    {
     "name": "stdout",
     "output_type": "stream",
     "text": [
      "\n",
      "Element-wise Multiplication:\n",
      " [[ 9 16 21]\n",
      " [24 25 24]\n",
      " [21 16  9]]\n"
     ]
    }
   ],
   "source": [
    "# Element-wise multiplication\n",
    "result_multiply = a * b\n",
    "print(\"\\nElement-wise Multiplication:\\n\", result_multiply.compute())"
   ]
  },
  {
   "cell_type": "code",
   "execution_count": 33,
   "id": "0166ed2f-b428-4837-b853-f50e2c34e4ff",
   "metadata": {},
   "outputs": [
    {
     "name": "stdout",
     "output_type": "stream",
     "text": [
      "\n",
      "Square Root:\n",
      " [[1.         1.41421356 1.73205081]\n",
      " [2.         2.23606798 2.44948974]\n",
      " [2.64575131 2.82842712 3.        ]]\n"
     ]
    }
   ],
   "source": [
    "# Square root\n",
    "result_sqrt = da.sqrt(a)\n",
    "print(\"\\nSquare Root:\\n\", result_sqrt.compute())"
   ]
  },
  {
   "cell_type": "code",
   "execution_count": 34,
   "id": "f1414ab0-308b-4d73-864c-78bf1ce99bf1",
   "metadata": {},
   "outputs": [
    {
     "data": {
      "text/plain": [
       "array([[ 30,  24,  18],\n",
       "       [ 84,  69,  54],\n",
       "       [138, 114,  90]])"
      ]
     },
     "execution_count": 34,
     "metadata": {},
     "output_type": "execute_result"
    }
   ],
   "source": [
    "# Matrix multiplication\n",
    "c = da.matmul(a,b)\n",
    "c.compute()"
   ]
  },
  {
   "cell_type": "markdown",
   "id": "dacb2efe-ee73-40ae-bb96-10e04091a994",
   "metadata": {
    "jp-MarkdownHeadingCollapsed": true
   },
   "source": [
    "## Reshaping Concatenate and Transpose"
   ]
  },
  {
   "cell_type": "code",
   "execution_count": 35,
   "id": "ef8c8ef7-e7e3-4db0-9101-d54f22ceeca0",
   "metadata": {},
   "outputs": [
    {
     "name": "stdout",
     "output_type": "stream",
     "text": [
      "Reshaped Array:\n",
      " [[1 2 3 4 5 6 7 8 9]]\n"
     ]
    }
   ],
   "source": [
    "# Reshape\n",
    "result_reshape = a.reshape((1, 9))\n",
    "print(\"Reshaped Array:\\n\", result_reshape.compute())"
   ]
  },
  {
   "cell_type": "code",
   "execution_count": 36,
   "id": "5930019b-cf61-41b9-97f9-1bd23a7799aa",
   "metadata": {},
   "outputs": [
    {
     "name": "stdout",
     "output_type": "stream",
     "text": [
      "\n",
      "Transposed Array:\n",
      " [[1 4 7]\n",
      " [2 5 8]\n",
      " [3 6 9]]\n"
     ]
    }
   ],
   "source": [
    "# Transpose\n",
    "result_transpose = a.transpose()\n",
    "print(\"\\nTransposed Array:\\n\", result_transpose.compute())"
   ]
  },
  {
   "cell_type": "code",
   "execution_count": 37,
   "id": "2262269e-6f39-40b6-98f3-eb20599763c7",
   "metadata": {},
   "outputs": [
    {
     "name": "stdout",
     "output_type": "stream",
     "text": [
      "\n",
      "Concatenated along Rows:\n",
      " [[1 2 3]\n",
      " [4 5 6]\n",
      " [7 8 9]\n",
      " [9 8 7]\n",
      " [6 5 4]\n",
      " [3 2 1]]\n"
     ]
    }
   ],
   "source": [
    "# Concatenate along rows\n",
    "result_concatenate_rows = da.concatenate([a, b], axis=0)\n",
    "print(\"Concatenated along Rows:\\n\", result_concatenate_rows.compute())"
   ]
  },
  {
   "cell_type": "code",
   "execution_count": 38,
   "id": "e8edbbc0-1361-4f5a-8565-7a5b22fd6b35",
   "metadata": {},
   "outputs": [
    {
     "name": "stdout",
     "output_type": "stream",
     "text": [
      "\n",
      "Concatenated along Columns:\n",
      " [[1 2 3 9 8 7]\n",
      " [4 5 6 6 5 4]\n",
      " [7 8 9 3 2 1]]\n"
     ]
    }
   ],
   "source": [
    "# Concatenate along columns\n",
    "result_concatenate_columns = da.concatenate([a, b], axis=1)\n",
    "print(\"Concatenated along Columns:\\n\", result_concatenate_columns.compute())"
   ]
  },
  {
   "cell_type": "markdown",
   "id": "e4fdfedc-1d36-4095-a6f3-a86acd524985",
   "metadata": {
    "jp-MarkdownHeadingCollapsed": true
   },
   "source": [
    "## Persist and Distributed computing"
   ]
  },
  {
   "cell_type": "code",
   "execution_count": 40,
   "id": "f73b41f0-0c36-498e-9859-4c543f2d4e4a",
   "metadata": {},
   "outputs": [
    {
     "name": "stdout",
     "output_type": "stream",
     "text": [
      "Computed Array:\n",
      " [[1 2 3]\n",
      " [4 5 6]\n",
      " [7 8 9]]\n",
      "\n",
      "Array Persisted: dask.array<array, shape=(3, 3), dtype=int64, chunksize=(2, 2), chunktype=numpy.ndarray>\n"
     ]
    },
    {
     "ename": "AttributeError",
     "evalue": "module 'dask.array' has no attribute 'visualize'",
     "output_type": "error",
     "traceback": [
      "\u001b[0;31m---------------------------------------------------------------------------\u001b[0m",
      "\u001b[0;31mAttributeError\u001b[0m                            Traceback (most recent call last)",
      "Cell \u001b[0;32mIn[40], line 10\u001b[0m\n\u001b[1;32m      7\u001b[0m \u001b[38;5;28mprint\u001b[39m(\u001b[38;5;124m\"\u001b[39m\u001b[38;5;130;01m\\n\u001b[39;00m\u001b[38;5;124mArray Persisted:\u001b[39m\u001b[38;5;124m\"\u001b[39m, a_persisted)\n\u001b[1;32m      9\u001b[0m \u001b[38;5;66;03m# Visualize (visualize the Dask computation graph)\u001b[39;00m\n\u001b[0;32m---> 10\u001b[0m \u001b[43mda\u001b[49m\u001b[38;5;241;43m.\u001b[39;49m\u001b[43mvisualize\u001b[49m(a, filename\u001b[38;5;241m=\u001b[39m\u001b[38;5;124m'\u001b[39m\u001b[38;5;124mdask_graph.png\u001b[39m\u001b[38;5;124m'\u001b[39m)\n",
      "\u001b[0;31mAttributeError\u001b[0m: module 'dask.array' has no attribute 'visualize'"
     ]
    }
   ],
   "source": [
    "# Compute (force computation)\n",
    "result_compute = a.compute()\n",
    "print(\"Computed Array:\\n\", result_compute)\n",
    "\n",
    "# Persist (persist data in memory for future computations)\n",
    "a_persisted = a.persist()\n",
    "print(\"\\nArray Persisted:\", a_persisted)\n",
    "\n",
    "# Visualize (visualize the Dask computation graph)\n",
    "da.visualize(a, filename='dask_graph.png')"
   ]
  },
  {
   "cell_type": "code",
   "execution_count": null,
   "id": "dcd4c6f8-308c-4359-b4dc-a43bfd461ccb",
   "metadata": {},
   "outputs": [],
   "source": [
    "from dask.distributed import Client\n",
    "\n",
    "client = Client()\n",
    "client.persist(a)  # Persist the array in memory\n",
    "client.compute(a)  # Trigger computation\n",
    "\n",
    "# Now you can view the Dask dashboard in your web browser\n",
    "# The dashboard URL will be printed in the output\n",
    "print(client.dashboard_link)"
   ]
  },
  {
   "cell_type": "code",
   "execution_count": 42,
   "id": "5bc48386-e02f-4b77-8e09-387e39bad206",
   "metadata": {},
   "outputs": [
    {
     "data": {
      "text/html": [
       "<div>\n",
       "    <div>\n",
       "        <div style=\"width: 52px; height: 52px; position: absolute;\">\n",
       "            <svg width=\"76\" height=\"71\" viewBox=\"0 0 76 71\" fill=\"none\" xmlns=\"http://www.w3.org/2000/svg\">\n",
       "                <circle cx=\"61.5\" cy=\"36.5\" r=\"13.5\" style=\"stroke: var(--jp-ui-font-color2, #1D1D1D); fill: var(--jp-layout-color1, #F2F2F2);\" stroke-width=\"2\"/>\n",
       "                <circle cx=\"14.5\" cy=\"14.5\" r=\"13.5\" style=\"stroke: var(--jp-ui-font-color2, #1D1D1D); fill: var(--jp-layout-color1, #F2F2F2);\" stroke-width=\"2\"/>\n",
       "                <circle cx=\"14.5\" cy=\"56.5\" r=\"13.5\" style=\"stroke: var(--jp-ui-font-color2, #1D1D1D); fill: var(--jp-layout-color1, #F2F2F2);\" stroke-width=\"2\"/>\n",
       "                <path d=\"M28 16L30.5 16C33.2614 16 35.5 18.2386 35.5 21L35.5 32.0001C35.5 34.7615 37.7386 37.0001 40.5 37.0001L43 37.0001\" style=\"stroke: var(--jp-ui-font-color2, #1D1D1D);\" stroke-width=\"1.5\"/>\n",
       "                <path d=\"M40.5 37L40.5 37.75L40.5 37.75L40.5 37ZM35.5 42L36.25 42L35.5 42ZM35.5 52L34.75 52L35.5 52ZM30.5 57L30.5 57.75L30.5 57ZM41.5001 36.25L40.5 36.25L40.5 37.75L41.5001 37.75L41.5001 36.25ZM34.75 42L34.75 52L36.25 52L36.25 42L34.75 42ZM30.5 56.25L28.0001 56.25L28.0001 57.75L30.5 57.75L30.5 56.25ZM34.75 52C34.75 54.3472 32.8472 56.25 30.5 56.25L30.5 57.75C33.6756 57.75 36.25 55.1756 36.25 52L34.75 52ZM40.5 36.25C37.3244 36.25 34.75 38.8243 34.75 42L36.25 42C36.25 39.6528 38.1528 37.75 40.5 37.75L40.5 36.25Z\" style=\"fill: var(--jp-ui-font-color2, #1D1D1D);\"/>\n",
       "                <circle cx=\"28\" cy=\"16\" r=\"2.25\" fill=\"#E5E5E5\" style=\"stroke: var(--jp-ui-font-color2, #1D1D1D);\" stroke-width=\"1.5\"/>\n",
       "                <circle cx=\"28\" cy=\"57\" r=\"2.25\" fill=\"#E5E5E5\" style=\"stroke: var(--jp-ui-font-color2, #1D1D1D);\" stroke-width=\"1.5\"/>\n",
       "                <path d=\"M45.25 36.567C45.5833 36.7594 45.5833 37.2406 45.25 37.433L42.25 39.1651C41.9167 39.3575 41.5 39.117 41.5 38.7321V35.2679C41.5 34.883 41.9167 34.6425 42.25 34.8349L45.25 36.567Z\" style=\"fill: var(--jp-ui-font-color2, #1D1D1D);\"/>\n",
       "            </svg>\n",
       "        </div>\n",
       "        <div style=\"margin-left: 64px;\">\n",
       "            <h3 style=\"margin-bottom: 0px;\">HighLevelGraph</h3>\n",
       "            <p style=\"color: var(--jp-ui-font-color2, #5D5851); margin-bottom:0px;\">\n",
       "                HighLevelGraph with 1 layers and 4 keys from all layers.\n",
       "            </p>\n",
       "            \n",
       "            <div style=\"\">\n",
       "    <svg width=\"24\" height=\"24\" viewBox=\"0 0 32 32\" fill=\"none\" xmlns=\"http://www.w3.org/2000/svg\" style=\"position: absolute;\">\n",
       "        \n",
       "        <circle cx=\"16\" cy=\"16\" r=\"14\" fill=\"#8F8F8F\" style=\"stroke: var(--jp-ui-font-color2, #1D1D1D);\" stroke-width=\"2\"/>\n",
       "        \n",
       "    </svg>\n",
       "\n",
       "    <details style=\"margin-left: 32px;\">\n",
       "        <summary style=\"margin-bottom: 10px; margin-top: 10px;\">\n",
       "            <h4 style=\"display: inline;\">Layer1: array</h4>\n",
       "        </summary>\n",
       "        <p style=\"color: var(--jp-ui-font-color2, #5D5851); margin: -0.25em 0px 0px 0px;\">\n",
       "            array-14f105ad34e219ea6adbb25147759423\n",
       "        </p>\n",
       "\n",
       "        <table>\n",
       "        <tr>\n",
       "            <td>\n",
       "                <table>\n",
       "                \n",
       "                    <tr>\n",
       "                        <th style=\"text-align: left; width: 150px;\">layer_type</th>\n",
       "                        <td style=\"text-align: left;\">MaterializedLayer</td>\n",
       "                    </tr>\n",
       "                \n",
       "                    <tr>\n",
       "                        <th style=\"text-align: left; width: 150px;\">is_materialized</th>\n",
       "                        <td style=\"text-align: left;\">True</td>\n",
       "                    </tr>\n",
       "                \n",
       "                    <tr>\n",
       "                        <th style=\"text-align: left; width: 150px;\">number of outputs</th>\n",
       "                        <td style=\"text-align: left;\">4</td>\n",
       "                    </tr>\n",
       "                \n",
       "                    <tr>\n",
       "                        <th style=\"text-align: left; width: 150px;\">shape</th>\n",
       "                        <td style=\"text-align: left;\">(3, 3)</td>\n",
       "                    </tr>\n",
       "                \n",
       "                    <tr>\n",
       "                        <th style=\"text-align: left; width: 150px;\">dtype</th>\n",
       "                        <td style=\"text-align: left;\">int64</td>\n",
       "                    </tr>\n",
       "                \n",
       "                    <tr>\n",
       "                        <th style=\"text-align: left; width: 150px;\">chunksize</th>\n",
       "                        <td style=\"text-align: left;\">(2, 2)</td>\n",
       "                    </tr>\n",
       "                \n",
       "                    <tr>\n",
       "                        <th style=\"text-align: left; width: 150px;\">type</th>\n",
       "                        <td style=\"text-align: left;\">dask.array.core.Array</td>\n",
       "                    </tr>\n",
       "                \n",
       "                    <tr>\n",
       "                        <th style=\"text-align: left; width: 150px;\">chunk_type</th>\n",
       "                        <td style=\"text-align: left;\">numpy.ndarray</td>\n",
       "                    </tr>\n",
       "                \n",
       "                \n",
       "                </table>\n",
       "            </td>\n",
       "            <td>\n",
       "                <svg width=\"250\" height=\"250\" style=\"stroke:rgb(0,0,0);stroke-width:1\" >\n",
       "\n",
       "  <!-- Horizontal lines -->\n",
       "  <line x1=\"0\" y1=\"0\" x2=\"200\" y2=\"0\" style=\"stroke-width:2\" />\n",
       "  <line x1=\"0\" y1=\"133\" x2=\"200\" y2=\"133\" />\n",
       "  <line x1=\"0\" y1=\"200\" x2=\"200\" y2=\"200\" style=\"stroke-width:2\" />\n",
       "\n",
       "  <!-- Vertical lines -->\n",
       "  <line x1=\"0\" y1=\"0\" x2=\"0\" y2=\"200\" style=\"stroke-width:2\" />\n",
       "  <line x1=\"133\" y1=\"0\" x2=\"133\" y2=\"200\" />\n",
       "  <line x1=\"200\" y1=\"0\" x2=\"200\" y2=\"200\" style=\"stroke-width:2\" />\n",
       "\n",
       "  <!-- Colored Rectangle -->\n",
       "  <polygon points=\"0.0,0.0 200.0,0.0 200.0,200.0 0.0,200.0\" style=\"fill:#ECB172A0;stroke-width:0\"/>\n",
       "\n",
       "  <!-- Text -->\n",
       "  <text x=\"100.000000\" y=\"220.000000\" font-size=\"1.0rem\" font-weight=\"100\" text-anchor=\"middle\" >3</text>\n",
       "  <text x=\"220.000000\" y=\"100.000000\" font-size=\"1.0rem\" font-weight=\"100\" text-anchor=\"middle\" transform=\"rotate(0,220.000000,100.000000)\">3</text>\n",
       "</svg>\n",
       "            </td>\n",
       "        </tr>\n",
       "        </table>\n",
       "\n",
       "    </details>\n",
       "</div>\n",
       "            \n",
       "        </div>\n",
       "    </div>\n",
       "</div>"
      ],
      "text/plain": [
       "HighLevelGraph with 1 layers.\n",
       "<dask.highlevelgraph.HighLevelGraph object at 0x7efc64390ca0>\n",
       " 0. array-14f105ad34e219ea6adbb25147759423"
      ]
     },
     "execution_count": 42,
     "metadata": {},
     "output_type": "execute_result"
    }
   ],
   "source": [
    "# High level view of array\n",
    "a.dask\n",
    "# a.visualize()"
   ]
  },
  {
   "cell_type": "markdown",
   "id": "d6ba78ea-9b4a-47dc-b575-6866be1782cb",
   "metadata": {
    "jp-MarkdownHeadingCollapsed": true
   },
   "source": [
    "## Low level Interfaces"
   ]
  },
  {
   "cell_type": "code",
   "execution_count": null,
   "id": "bc549444-1f82-4e7b-bc53-008494c38825",
   "metadata": {},
   "outputs": [],
   "source": [
    "import dask\n",
    "from dask import delayed\n",
    "\n",
    "@delayed\n",
    "def inc(x):\n",
    "    return x + 1\n",
    "\n",
    "@delayed\n",
    "def add(x, y):\n",
    "    return x + y\n",
    "\n",
    "a = inc(1)       # Delayed object representing inc(1)\n",
    "b = inc(2)       # Delayed object representing inc(2)\n",
    "c = add(a, b)    # Delayed object representing add(inc(1), inc(2))\n",
    "\n",
    "# At this point, no actual computation has happened.\n",
    "\n",
    "# To trigger the computation, you can use dask.compute or call compute on the result\n",
    "result = dask.compute(c)\n",
    "# or\n",
    "c_result = c.compute()\n",
    "\n",
    "# The result now contains the computed value of c\n",
    "print(result)\n"
   ]
  },
  {
   "cell_type": "code",
   "execution_count": null,
   "id": "831fed6c-3f97-49fb-8691-c2273e157b88",
   "metadata": {},
   "outputs": [],
   "source": [
    "from dask.distributed import Client\n",
    "\n",
    "client = Client()\n",
    "\n",
    "def inc(x):\n",
    "   return x + 1\n",
    "\n",
    "def add(x, y):\n",
    "   return x + y\n",
    "\n",
    "a = client.submit(inc, 1)     # work starts immediately\n",
    "b = client.submit(inc, 2)     # work starts immediately\n",
    "c = client.submit(add, a, b)  # work starts immediately\n",
    "\n",
    "c = c.result()                # block until work finishes, then gather result"
   ]
  },
  {
   "cell_type": "code",
   "execution_count": null,
   "id": "3f9142fa-a4ad-4703-93b2-4bba05d41de2",
   "metadata": {},
   "outputs": [],
   "source": [
    "from dask.distributed import Client\n",
    "client = Client()\n",
    "client"
   ]
  },
  {
   "cell_type": "code",
   "execution_count": null,
   "id": "7bcbbfd9-63a7-4e90-acd0-a270c8f5be38",
   "metadata": {},
   "outputs": [],
   "source": [
    "import dask.array as da\n",
    "a = da.arange(101, chunks=(10,))\n",
    "a.sum().compute()"
   ]
  },
  {
   "cell_type": "code",
   "execution_count": null,
   "id": "811b3a0f-1e35-42bb-a0cd-950a71b004ea",
   "metadata": {},
   "outputs": [],
   "source": [
    "a.chunks"
   ]
  },
  {
   "cell_type": "code",
   "execution_count": 45,
   "id": "292860e7-93e1-4ff4-9cdc-3f0774a83594",
   "metadata": {},
   "outputs": [
    {
     "data": {
      "text/plain": [
       "((1, 1, 1), (3,))"
      ]
     },
     "execution_count": 45,
     "metadata": {},
     "output_type": "execute_result"
    }
   ],
   "source": [
    "b = a.rechunk(chunks = (1,20))\n",
    "b.chunks"
   ]
  },
  {
   "cell_type": "markdown",
   "id": "c1bbb3e4-6dd3-4ee8-a521-443e0ed014f7",
   "metadata": {
    "jp-MarkdownHeadingCollapsed": true
   },
   "source": [
    "## Stack"
   ]
  },
  {
   "cell_type": "code",
   "execution_count": 58,
   "id": "5c7e2ad9-75d5-4946-9e54-7d7ae6490357",
   "metadata": {},
   "outputs": [
    {
     "name": "stdout",
     "output_type": "stream",
     "text": [
      "Array1:\n",
      " [[0 0 0 0]\n",
      " [0 0 0 0]\n",
      " [0 0 0 0]]\n",
      "Array2:\n",
      " [[1 1 1 1]\n",
      " [1 1 1 1]\n",
      " [1 1 1 1]]\n"
     ]
    }
   ],
   "source": [
    "# Stack two array\n",
    "# Initialize two arrays\n",
    "arr0 = da.from_array(np.zeros((3, 4), dtype='int16'), chunks=(1, 2))\n",
    "print(\"Array1:\\n\", arr0.compute())\n",
    "arr1 = da.from_array(np.ones((3, 4), dtype='int16'), chunks=(1, 2))\n",
    "print(\"Array2:\\n\", arr1.compute())"
   ]
  },
  {
   "cell_type": "code",
   "execution_count": 59,
   "id": "246431fd-1a4c-45f1-88df-a4b618a3d31a",
   "metadata": {},
   "outputs": [
    {
     "data": {
      "text/plain": [
       "array([[[0, 0, 0, 0],\n",
       "        [0, 0, 0, 0],\n",
       "        [0, 0, 0, 0]],\n",
       "\n",
       "       [[1, 1, 1, 1],\n",
       "        [1, 1, 1, 1],\n",
       "        [1, 1, 1, 1]]], dtype=int16)"
      ]
     },
     "execution_count": 59,
     "metadata": {},
     "output_type": "execute_result"
    }
   ],
   "source": [
    "# stack arr0 on top of arr1 horizontally\n",
    "x = da.stack([arr0, arr1], axis=0)\n",
    "x.compute()"
   ]
  },
  {
   "cell_type": "code",
   "execution_count": 60,
   "id": "9f5031cb-b985-4330-a9ed-a27e5623e545",
   "metadata": {},
   "outputs": [
    {
     "data": {
      "text/plain": [
       "(2, 3, 4)"
      ]
     },
     "execution_count": 60,
     "metadata": {},
     "output_type": "execute_result"
    }
   ],
   "source": [
    "x.shape"
   ]
  },
  {
   "cell_type": "code",
   "execution_count": 65,
   "id": "dcaa3597-af9b-4e66-9333-a5eaa41857d0",
   "metadata": {},
   "outputs": [
    {
     "data": {
      "text/plain": [
       "array([[[ 1,  2,  3],\n",
       "        [ 4,  5,  6],\n",
       "        [ 7,  8,  9]],\n",
       "\n",
       "       [[10, 11, 12],\n",
       "        [13, 14, 15],\n",
       "        [16, 17, 18]]])"
      ]
     },
     "execution_count": 65,
     "metadata": {},
     "output_type": "execute_result"
    }
   ],
   "source": [
    "# stack arr0 on top of arr1 horizontally\n",
    "a = np.array([[1,2,3],[4,5,6],[7,8,9]])\n",
    "b = np.array([[10,11,12],[13,14,15],[16,17,18]])\n",
    "x = da.stack([a, b], axis=0)\n",
    "x.compute()"
   ]
  },
  {
   "cell_type": "code",
   "execution_count": 66,
   "id": "ca40da5c-d7f3-4eb8-95a6-ad4b61af5b8c",
   "metadata": {},
   "outputs": [
    {
     "data": {
      "text/plain": [
       "array([[[ 1,  2,  3],\n",
       "        [10, 11, 12]],\n",
       "\n",
       "       [[ 4,  5,  6],\n",
       "        [13, 14, 15]],\n",
       "\n",
       "       [[ 7,  8,  9],\n",
       "        [16, 17, 18]]])"
      ]
     },
     "execution_count": 66,
     "metadata": {},
     "output_type": "execute_result"
    }
   ],
   "source": [
    "# Each column is stack on the corresponding column and make one array\n",
    "x = da.stack([a, b], axis=1)\n",
    "x.compute()"
   ]
  },
  {
   "cell_type": "code",
   "execution_count": 62,
   "id": "bc6ecfd9-ac5d-409b-8403-8d09ee164938",
   "metadata": {},
   "outputs": [
    {
     "data": {
      "text/plain": [
       "(3, 2, 4)"
      ]
     },
     "execution_count": 62,
     "metadata": {},
     "output_type": "execute_result"
    }
   ],
   "source": [
    "x.shape"
   ]
  },
  {
   "cell_type": "markdown",
   "id": "629c3885-e268-4d33-9caf-b95d44f2471b",
   "metadata": {
    "jp-MarkdownHeadingCollapsed": true
   },
   "source": [
    "## Block"
   ]
  },
  {
   "cell_type": "code",
   "execution_count": 67,
   "id": "276858ba-eeb9-46a8-aefc-1ecc18515e11",
   "metadata": {},
   "outputs": [
    {
     "data": {
      "text/plain": [
       "array([[0, 0, 0, 0, 1, 1, 1, 1],\n",
       "       [0, 0, 0, 0, 1, 1, 1, 1],\n",
       "       [0, 0, 0, 0, 1, 1, 1, 1],\n",
       "       [1, 1, 1, 1, 0, 0, 0, 0],\n",
       "       [1, 1, 1, 1, 0, 0, 0, 0],\n",
       "       [1, 1, 1, 1, 0, 0, 0, 0]], dtype=int16)"
      ]
     },
     "execution_count": 67,
     "metadata": {},
     "output_type": "execute_result"
    }
   ],
   "source": [
    "# Block of arrays\n",
    "data = [\n",
    "    [arr0, arr1],\n",
    "    [arr1, arr0]\n",
    "]\n",
    "x = da.block(data)\n",
    "x.compute()"
   ]
  },
  {
   "cell_type": "code",
   "execution_count": null,
   "id": "5874b516-0f56-4e79-87ce-d80e192f3a0e",
   "metadata": {},
   "outputs": [],
   "source": []
  }
 ],
 "metadata": {
  "kernelspec": {
   "display_name": "Python 3 (ipykernel)",
   "language": "python",
   "name": "python3"
  },
  "language_info": {
   "codemirror_mode": {
    "name": "ipython",
    "version": 3
   },
   "file_extension": ".py",
   "mimetype": "text/x-python",
   "name": "python",
   "nbconvert_exporter": "python",
   "pygments_lexer": "ipython3",
   "version": "3.10.12"
  }
 },
 "nbformat": 4,
 "nbformat_minor": 5
}
