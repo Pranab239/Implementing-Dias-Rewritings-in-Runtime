{
 "cells": [
  {
   "cell_type": "markdown",
   "id": "96fb7034-98e8-4426-8737-c71f3162d0f5",
   "metadata": {
    "jp-MarkdownHeadingCollapsed": true
   },
   "source": [
    "## Basics of Numpy array"
   ]
  },
  {
   "cell_type": "code",
   "execution_count": 2,
   "id": "2a1109ee-2f48-42c3-bfb0-6923b05c2cf8",
   "metadata": {},
   "outputs": [],
   "source": [
    "import numpy as np"
   ]
  },
  {
   "cell_type": "code",
   "execution_count": 3,
   "id": "31acbbf6-1d6c-40a4-b038-5ae55a377985",
   "metadata": {},
   "outputs": [
    {
     "name": "stdout",
     "output_type": "stream",
     "text": [
      "[1 2 3]\n"
     ]
    }
   ],
   "source": [
    "a = np.array([1,2,3], dtype = 'int16')\n",
    "print(a)"
   ]
  },
  {
   "cell_type": "code",
   "execution_count": 4,
   "id": "6ad3f273-5fb3-41eb-b5c8-ae9938024e43",
   "metadata": {},
   "outputs": [
    {
     "name": "stdout",
     "output_type": "stream",
     "text": [
      "[[1 2 3]\n",
      " [4 5 6]\n",
      " [7 8 9]]\n"
     ]
    }
   ],
   "source": [
    "b = np.array([[1,2,3],[4,5,6],[7,8,9]], dtype = 'int16')\n",
    "print(b)"
   ]
  },
  {
   "cell_type": "code",
   "execution_count": 5,
   "id": "95c36cef-5153-45bf-86d2-497e1558eb12",
   "metadata": {},
   "outputs": [
    {
     "name": "stdout",
     "output_type": "stream",
     "text": [
      "1\n",
      "2\n"
     ]
    }
   ],
   "source": [
    "# Get dimension of array\n",
    "print(a.ndim)\n",
    "print(b.ndim)"
   ]
  },
  {
   "cell_type": "code",
   "execution_count": 6,
   "id": "4115cb00-fcb2-4955-9233-fb11e38b1888",
   "metadata": {},
   "outputs": [
    {
     "name": "stdout",
     "output_type": "stream",
     "text": [
      "(3,)\n",
      "(3, 3)\n"
     ]
    }
   ],
   "source": [
    "# Get shape of array\n",
    "print(a.shape)\n",
    "print(b.shape)"
   ]
  },
  {
   "cell_type": "code",
   "execution_count": 7,
   "id": "65350fef-1799-4547-b458-15e683106d67",
   "metadata": {},
   "outputs": [
    {
     "data": {
      "text/plain": [
       "dtype('int16')"
      ]
     },
     "execution_count": 7,
     "metadata": {},
     "output_type": "execute_result"
    }
   ],
   "source": [
    "# Get dataType\n",
    "b.dtype"
   ]
  },
  {
   "cell_type": "code",
   "execution_count": 8,
   "id": "6f4f7304-0219-44be-9c36-4ff46313d80e",
   "metadata": {},
   "outputs": [
    {
     "data": {
      "text/plain": [
       "2"
      ]
     },
     "execution_count": 8,
     "metadata": {},
     "output_type": "execute_result"
    }
   ],
   "source": [
    "# Get size of each elements (in bytes)\n",
    "a.itemsize"
   ]
  },
  {
   "cell_type": "code",
   "execution_count": 9,
   "id": "fd47974e-2cce-4751-b270-f267edbce651",
   "metadata": {},
   "outputs": [
    {
     "data": {
      "text/plain": [
       "9"
      ]
     },
     "execution_count": 9,
     "metadata": {},
     "output_type": "execute_result"
    }
   ],
   "source": [
    "# Get the total array size (No. of elements)\n",
    "b.size"
   ]
  },
  {
   "cell_type": "code",
   "execution_count": 10,
   "id": "687c1508-b1a6-4c92-9182-50e736b97a1a",
   "metadata": {},
   "outputs": [
    {
     "data": {
      "text/plain": [
       "18"
      ]
     },
     "execution_count": 10,
     "metadata": {},
     "output_type": "execute_result"
    }
   ],
   "source": [
    "# Get the total array size (No. of bytes)\n",
    "b.size * b.itemsize"
   ]
  },
  {
   "cell_type": "code",
   "execution_count": 11,
   "id": "3837719d-3a7a-4e89-8035-6b7b636d9b21",
   "metadata": {},
   "outputs": [
    {
     "data": {
      "text/plain": [
       "18"
      ]
     },
     "execution_count": 11,
     "metadata": {},
     "output_type": "execute_result"
    }
   ],
   "source": [
    "# Get total array size (no. of bytes)\n",
    "b.nbytes"
   ]
  },
  {
   "cell_type": "markdown",
   "id": "da4f9428-e681-42c5-adec-57fbae7b83b1",
   "metadata": {
    "jp-MarkdownHeadingCollapsed": true
   },
   "source": [
    "## Accessing and Changing Specific elements, row, columns etc"
   ]
  },
  {
   "cell_type": "code",
   "execution_count": 13,
   "id": "ae6dbf63-7e48-4d3e-87bf-b392ffd967a6",
   "metadata": {},
   "outputs": [
    {
     "name": "stdout",
     "output_type": "stream",
     "text": [
      "[[ 1  2  3  4  5  6  7]\n",
      " [ 8  9 10 11 12 13 14]]\n"
     ]
    }
   ],
   "source": [
    "a = np.array([[1,2,3,4,5,6,7],[8,9,10,11,12,13,14]])\n",
    "print(a)"
   ]
  },
  {
   "cell_type": "code",
   "execution_count": 14,
   "id": "1bba2928-e08a-4e7d-b858-492f6c97895e",
   "metadata": {},
   "outputs": [
    {
     "data": {
      "text/plain": [
       "(2, 7)"
      ]
     },
     "execution_count": 14,
     "metadata": {},
     "output_type": "execute_result"
    }
   ],
   "source": [
    "a.shape"
   ]
  },
  {
   "cell_type": "code",
   "execution_count": 15,
   "id": "cddfa858-506a-447a-b65b-e16684c86dcb",
   "metadata": {},
   "outputs": [
    {
     "name": "stdout",
     "output_type": "stream",
     "text": [
      "13\n",
      "13\n"
     ]
    }
   ],
   "source": [
    "# Accessing the array element\n",
    "print(a[1][5])\n",
    "print(a[1][-2]) # 2nd last element"
   ]
  },
  {
   "cell_type": "code",
   "execution_count": 16,
   "id": "b6dfe63e-9a04-40ee-a4c9-0ced26b03e2d",
   "metadata": {},
   "outputs": [
    {
     "name": "stdout",
     "output_type": "stream",
     "text": [
      "[1 2 3 4 5 6 7]\n"
     ]
    }
   ],
   "source": [
    "# Get specific rows\n",
    "print(a[0,:])"
   ]
  },
  {
   "cell_type": "code",
   "execution_count": 17,
   "id": "b3295b0b-58c0-4ab5-b4cc-99ccde7e8335",
   "metadata": {},
   "outputs": [
    {
     "name": "stdout",
     "output_type": "stream",
     "text": [
      "[ 3 10]\n"
     ]
    }
   ],
   "source": [
    "# Get specific cols\n",
    "print(a[:,2])"
   ]
  },
  {
   "cell_type": "code",
   "execution_count": 18,
   "id": "d6c8bfdf-d17c-4608-b306-1c9b0835c657",
   "metadata": {},
   "outputs": [
    {
     "name": "stdout",
     "output_type": "stream",
     "text": [
      "[2 4 6]\n"
     ]
    }
   ],
   "source": [
    "# Getting a subarray [row_number, start_index, end_index + 1, step_size]\n",
    "b = a[0, 1:7:2]\n",
    "print(b)"
   ]
  },
  {
   "cell_type": "code",
   "execution_count": 19,
   "id": "a408423c-63f6-40b0-819d-f8fccf8c49ae",
   "metadata": {},
   "outputs": [
    {
     "name": "stdout",
     "output_type": "stream",
     "text": [
      "Befor update:\n",
      " [[ 1  2  3  4  5  6  7]\n",
      " [ 8  9 10 11 12 13 14]]\n",
      "After Update:\n",
      " [[ 1  2  3  4  5  6  7]\n",
      " [ 8  9 10 11 12 20 14]]\n"
     ]
    }
   ],
   "source": [
    "# Replace any item\n",
    "print(\"Befor update:\\n\",a)\n",
    "a[1][5] = 20;\n",
    "print(\"After Update:\\n\",a)"
   ]
  },
  {
   "cell_type": "code",
   "execution_count": 20,
   "id": "e65430b0-b370-406c-a9eb-60c907244877",
   "metadata": {},
   "outputs": [
    {
     "name": "stdout",
     "output_type": "stream",
     "text": [
      "[[ 1  2  5  4  5  6  7]\n",
      " [ 8  9  5 11 12 20 14]]\n"
     ]
    }
   ],
   "source": [
    "# Replace one column with specific value\n",
    "a[:,2] = 5;\n",
    "print(a)"
   ]
  },
  {
   "cell_type": "code",
   "execution_count": 21,
   "id": "b879e58d-97e3-415b-879b-32d917341af9",
   "metadata": {},
   "outputs": [
    {
     "name": "stdout",
     "output_type": "stream",
     "text": [
      "[[1 2 5 4 5 6 7]\n",
      " [1 2 3 4 5 6 7]]\n"
     ]
    }
   ],
   "source": [
    "# Replace with array\n",
    "a[1,:] = [1,2,3,4,5,6,7]\n",
    "print(a)"
   ]
  },
  {
   "cell_type": "markdown",
   "id": "5d757492-78a6-4ffd-a3e1-3f37684d5001",
   "metadata": {
    "jp-MarkdownHeadingCollapsed": true
   },
   "source": [
    "## Initializing Different types of array"
   ]
  },
  {
   "cell_type": "code",
   "execution_count": 23,
   "id": "8104b640-e190-4477-a775-957b8ee017f3",
   "metadata": {},
   "outputs": [
    {
     "name": "stdout",
     "output_type": "stream",
     "text": [
      "[[0. 0. 0.]\n",
      " [0. 0. 0.]]\n",
      "float64\n"
     ]
    }
   ],
   "source": [
    "# initialize all 0's array\n",
    "a = np.zeros((2,3))\n",
    "print(a)\n",
    "print(a.dtype)"
   ]
  },
  {
   "cell_type": "code",
   "execution_count": 24,
   "id": "6df2d397-ce4f-4779-ac2c-8780b1fc6e76",
   "metadata": {},
   "outputs": [
    {
     "name": "stdout",
     "output_type": "stream",
     "text": [
      "[[1 1 1]\n",
      " [1 1 1]\n",
      " [1 1 1]]\n"
     ]
    }
   ],
   "source": [
    "# initialize all 1's array\n",
    "b = np.ones((3,3), dtype = 'int16')\n",
    "print(b)"
   ]
  },
  {
   "cell_type": "code",
   "execution_count": 25,
   "id": "59a2946c-3574-44e1-9df0-5098df564a48",
   "metadata": {},
   "outputs": [
    {
     "name": "stdout",
     "output_type": "stream",
     "text": [
      "Array with each value 5:\n",
      " [[5 5 5]\n",
      " [5 5 5]\n",
      " [5 5 5]]\n",
      "Take the shape of other array:/n [[3 3 3]\n",
      " [3 3 3]\n",
      " [3 3 3]]\n",
      "Similar with full function:\n",
      " [[6 6 6]\n",
      " [6 6 6]\n",
      " [6 6 6]]\n"
     ]
    }
   ],
   "source": [
    "# Initialize with any other number ((row,col),num)\n",
    "c = np.full((3,3),5)\n",
    "print(\"Array with each value 5:\\n\",c)\n",
    "\n",
    "d = np.full_like(c, 3) # Can take structure of C array\n",
    "print(\"Take the shape of other array:/n\",d)\n",
    "\n",
    "e = np.full(c.shape,6)\n",
    "print(\"Similar with full function:\\n\",e)"
   ]
  },
  {
   "cell_type": "code",
   "execution_count": 26,
   "id": "e7169c37-8cc2-4089-a2e1-789b300eb9ab",
   "metadata": {},
   "outputs": [
    {
     "name": "stdout",
     "output_type": "stream",
     "text": [
      "[[0.48439729 0.87306763 0.07779052 0.32107686]\n",
      " [0.09198963 0.93243823 0.23872264 0.80518859]]\n"
     ]
    }
   ],
   "source": [
    "# Random decimal numbers\n",
    "array = np.random.rand(2,4)\n",
    "print(array)"
   ]
  },
  {
   "cell_type": "code",
   "execution_count": 27,
   "id": "78eda5b6-5d85-41ef-8d85-5aeff47e1ef5",
   "metadata": {},
   "outputs": [
    {
     "name": "stdout",
     "output_type": "stream",
     "text": [
      "[[0.54213003 0.38414652 0.53625533 0.56571751]\n",
      " [0.40021175 0.66851544 0.71359012 0.84407949]]\n"
     ]
    }
   ],
   "source": [
    "# copy the shape of other array\n",
    "array_copy = np.random.random_sample(array.shape)\n",
    "print(array_copy)"
   ]
  },
  {
   "cell_type": "code",
   "execution_count": 28,
   "id": "94498f8a-0b82-4783-9f51-7b50bba61fe7",
   "metadata": {},
   "outputs": [
    {
     "name": "stdout",
     "output_type": "stream",
     "text": [
      "[[4 1 0]\n",
      " [0 5 7]\n",
      " [1 4 0]]\n"
     ]
    }
   ],
   "source": [
    "# Random integer values (start_value, end_value(exclusive), size_of_array)\n",
    "# if start_value is not mentioned then default value is 0. -ve values are also permitted\n",
    "array_int = np.random.randint(-2,8, size = (3,3))\n",
    "print(array_int)"
   ]
  },
  {
   "cell_type": "code",
   "execution_count": 29,
   "id": "7892dab3-eca6-4b3c-97a8-4690360f94a6",
   "metadata": {},
   "outputs": [
    {
     "name": "stdout",
     "output_type": "stream",
     "text": [
      "[[1. 0. 0. 0. 0.]\n",
      " [0. 1. 0. 0. 0.]\n",
      " [0. 0. 1. 0. 0.]\n",
      " [0. 0. 0. 1. 0.]\n",
      " [0. 0. 0. 0. 1.]]\n"
     ]
    }
   ],
   "source": [
    "# Identity matrix just give the shape because id matrix is a square matrix\n",
    "id_array = np.identity(5)\n",
    "print(id_array)"
   ]
  },
  {
   "cell_type": "code",
   "execution_count": 32,
   "id": "5e1dfcc5-bdc9-4023-87da-f35444281fe7",
   "metadata": {},
   "outputs": [
    {
     "name": "stdout",
     "output_type": "stream",
     "text": [
      "[[1 2 3]\n",
      " [1 2 3]\n",
      " [1 2 3]]\n"
     ]
    }
   ],
   "source": [
    "# Repeat an array\n",
    "arr = np.array([[1,2,3]])\n",
    "r1 = np.repeat(arr,3, axis = 0)  # (array, repetition_no, axis)\n",
    "print(r1)"
   ]
  },
  {
   "cell_type": "code",
   "execution_count": 36,
   "id": "964e6085-2aa1-495d-8307-2bc41a8f0bca",
   "metadata": {},
   "outputs": [
    {
     "name": "stdout",
     "output_type": "stream",
     "text": [
      "First step:\n",
      " [[1 1 1 1 1]\n",
      " [1 1 1 1 1]\n",
      " [1 1 1 1 1]\n",
      " [1 1 1 1 1]\n",
      " [1 1 1 1 1]]\n",
      "Second Step:\n",
      " [[0 0 0]\n",
      " [0 9 0]\n",
      " [0 0 0]]\n",
      "Final output:\n",
      " [[1 1 1 1 1]\n",
      " [1 0 0 0 1]\n",
      " [1 0 9 0 1]\n",
      " [1 0 0 0 1]\n",
      " [1 1 1 1 1]]\n"
     ]
    }
   ],
   "source": [
    "# make an 5 * 5 array with all outside cells have 1 and middle one should have 9 and surroundings\n",
    "# should be 0\n",
    "one = np.ones((5,5), dtype = 'int16')\n",
    "print(\"First step:\\n\", one)\n",
    "\n",
    "zero = np.zeros((3,3), dtype = 'int16')\n",
    "zero[1,1] = 9\n",
    "print(\"Second Step:\\n\", zero)\n",
    "\n",
    "one[1:-1, 1:-1] = zero\n",
    "print(\"Final output:\\n\",one);"
   ]
  },
  {
   "cell_type": "code",
   "execution_count": 37,
   "id": "e19e4c53-508a-4d56-8020-e1098d9e707c",
   "metadata": {},
   "outputs": [
    {
     "name": "stdout",
     "output_type": "stream",
     "text": [
      "The b matrix:\n",
      " [100   2   3]\n",
      "The a matrix:\n",
      " [100   2   3]\n"
     ]
    }
   ],
   "source": [
    "# be careful while copying arrays\n",
    "a = np.array([1,2,3])\n",
    "b = a  # points to the same address\n",
    "b[0] = 100\n",
    "print(\"The b matrix:\\n\",b)\n",
    "print(\"The a matrix:\\n\",a) # a matrix value also changed"
   ]
  },
  {
   "cell_type": "code",
   "execution_count": 38,
   "id": "11ff0939-0db6-4a0b-a494-a4ad8725dad3",
   "metadata": {},
   "outputs": [
    {
     "name": "stdout",
     "output_type": "stream",
     "text": [
      "[100   2   3]\n",
      "[1 2 3]\n"
     ]
    }
   ],
   "source": [
    "a = np.array([1,2,3])\n",
    "b = a.copy()\n",
    "b[0] = 100\n",
    "print(b)\n",
    "print(a)"
   ]
  },
  {
   "cell_type": "markdown",
   "id": "70fe84db-daee-4ced-a7b9-056f2d1074b7",
   "metadata": {
    "jp-MarkdownHeadingCollapsed": true
   },
   "source": [
    "## Mathematical Operations"
   ]
  },
  {
   "cell_type": "code",
   "execution_count": 39,
   "id": "1ef04ab7-62f4-4d61-9178-aea2ad79f12e",
   "metadata": {},
   "outputs": [
    {
     "data": {
      "text/plain": [
       "array([3, 4, 5, 6])"
      ]
     },
     "execution_count": 39,
     "metadata": {},
     "output_type": "execute_result"
    }
   ],
   "source": [
    "arr = np.array([1,2,3,4])\n",
    "arr + 2"
   ]
  },
  {
   "cell_type": "code",
   "execution_count": 40,
   "id": "a0d3adf2-06b8-417a-8e9c-37e1093ca078",
   "metadata": {},
   "outputs": [
    {
     "data": {
      "text/plain": [
       "array([-1,  0,  1,  2])"
      ]
     },
     "execution_count": 40,
     "metadata": {},
     "output_type": "execute_result"
    }
   ],
   "source": [
    "arr - 2"
   ]
  },
  {
   "cell_type": "code",
   "execution_count": 41,
   "id": "aece5534-f8b6-49c0-957e-09780fff57d3",
   "metadata": {},
   "outputs": [
    {
     "data": {
      "text/plain": [
       "array([2, 4, 6, 8])"
      ]
     },
     "execution_count": 41,
     "metadata": {},
     "output_type": "execute_result"
    }
   ],
   "source": [
    "arr * 2"
   ]
  },
  {
   "cell_type": "code",
   "execution_count": 42,
   "id": "0e1c35eb-36a1-451d-995f-81228ebd8ee6",
   "metadata": {},
   "outputs": [
    {
     "data": {
      "text/plain": [
       "array([0.5, 1. , 1.5, 2. ])"
      ]
     },
     "execution_count": 42,
     "metadata": {},
     "output_type": "execute_result"
    }
   ],
   "source": [
    "arr / 2"
   ]
  },
  {
   "cell_type": "code",
   "execution_count": 43,
   "id": "b1db96cd-7fb4-400b-9c5b-3c8009926df2",
   "metadata": {},
   "outputs": [
    {
     "data": {
      "text/plain": [
       "array([ 1,  4,  9, 16])"
      ]
     },
     "execution_count": 43,
     "metadata": {},
     "output_type": "execute_result"
    }
   ],
   "source": [
    "arr ** 2"
   ]
  },
  {
   "cell_type": "code",
   "execution_count": 46,
   "id": "f318725b-c541-44ab-92e9-f7ca0d0bbbdd",
   "metadata": {},
   "outputs": [
    {
     "data": {
      "text/plain": [
       "array([ 7,  8,  9, 10])"
      ]
     },
     "execution_count": 46,
     "metadata": {},
     "output_type": "execute_result"
    }
   ],
   "source": [
    "arr += 2\n",
    "arr"
   ]
  },
  {
   "cell_type": "code",
   "execution_count": 47,
   "id": "80fed45d-ffd7-45b5-983f-8b52374d630e",
   "metadata": {},
   "outputs": [
    {
     "data": {
      "text/plain": [
       "array([ 0.54030231, -0.41614684, -0.9899925 ])"
      ]
     },
     "execution_count": 47,
     "metadata": {},
     "output_type": "execute_result"
    }
   ],
   "source": [
    "np.cos(a)"
   ]
  },
  {
   "cell_type": "code",
   "execution_count": 48,
   "id": "e1897b23-f7e8-447d-a09d-1942916f754e",
   "metadata": {},
   "outputs": [
    {
     "data": {
      "text/plain": [
       "array([0.84147098, 0.90929743, 0.14112001])"
      ]
     },
     "execution_count": 48,
     "metadata": {},
     "output_type": "execute_result"
    }
   ],
   "source": [
    "np.sin(a)"
   ]
  },
  {
   "cell_type": "markdown",
   "id": "d8c609ba-5fcb-4f8a-b950-2279155a4c68",
   "metadata": {
    "jp-MarkdownHeadingCollapsed": true
   },
   "source": [
    "## Linear ALgebra"
   ]
  },
  {
   "cell_type": "code",
   "execution_count": 50,
   "id": "fc4979df-629a-4001-9621-0a57b353e525",
   "metadata": {},
   "outputs": [
    {
     "name": "stdout",
     "output_type": "stream",
     "text": [
      "[[6. 6.]\n",
      " [6. 6.]]\n"
     ]
    }
   ],
   "source": [
    "# Matrix multiplication\n",
    "a = np.ones((2,3))\n",
    "b = np.full((3,2),2)\n",
    "c = np.matmul(a,b)\n",
    "print(c)"
   ]
  },
  {
   "cell_type": "code",
   "execution_count": 51,
   "id": "3a1cfbbe-8c87-4252-8999-f2f73c05f7c2",
   "metadata": {},
   "outputs": [
    {
     "name": "stdout",
     "output_type": "stream",
     "text": [
      "1.0\n"
     ]
    }
   ],
   "source": [
    "# Find the determinent\n",
    "iden = np.identity(3)\n",
    "print(np.linalg.det(iden))"
   ]
  },
  {
   "cell_type": "markdown",
   "id": "2bead8cb-04dc-42f9-9cdc-be2506644c08",
   "metadata": {
    "jp-MarkdownHeadingCollapsed": true
   },
   "source": [
    "## Statistics"
   ]
  },
  {
   "cell_type": "code",
   "execution_count": null,
   "id": "a550bd76-6a93-408d-af2b-64c4e48a7f7d",
   "metadata": {},
   "outputs": [],
   "source": []
  },
  {
   "cell_type": "code",
   "execution_count": 53,
   "id": "d61fb94e-b55b-43f0-a6f5-57be943f90b4",
   "metadata": {},
   "outputs": [
    {
     "name": "stdout",
     "output_type": "stream",
     "text": [
      "[[1 2 3]\n",
      " [4 5 6]]\n"
     ]
    }
   ],
   "source": [
    "stat = np.array([[1,2,3],[4,5,6]])\n",
    "print(stat)"
   ]
  },
  {
   "cell_type": "code",
   "execution_count": 54,
   "id": "cfb5a9d5-31c8-44f8-8b17-abde51f04a46",
   "metadata": {},
   "outputs": [
    {
     "data": {
      "text/plain": [
       "1"
      ]
     },
     "execution_count": 54,
     "metadata": {},
     "output_type": "execute_result"
    }
   ],
   "source": [
    "np.min(stat)"
   ]
  },
  {
   "cell_type": "code",
   "execution_count": 55,
   "id": "a4ee03f9-b442-4e3d-824d-eb27e471d435",
   "metadata": {},
   "outputs": [
    {
     "data": {
      "text/plain": [
       "6"
      ]
     },
     "execution_count": 55,
     "metadata": {},
     "output_type": "execute_result"
    }
   ],
   "source": [
    "np.max(stat)"
   ]
  },
  {
   "cell_type": "code",
   "execution_count": 57,
   "id": "6c0fdbcf-0f99-4414-bb45-6417825c2bd6",
   "metadata": {},
   "outputs": [
    {
     "data": {
      "text/plain": [
       "3.5"
      ]
     },
     "execution_count": 57,
     "metadata": {},
     "output_type": "execute_result"
    }
   ],
   "source": [
    "np.mean(stat)"
   ]
  },
  {
   "cell_type": "code",
   "execution_count": 58,
   "id": "1db2160a-ac22-48ae-ba5e-d800d84565f8",
   "metadata": {},
   "outputs": [
    {
     "data": {
      "text/plain": [
       "array([4, 5, 6])"
      ]
     },
     "execution_count": 58,
     "metadata": {},
     "output_type": "execute_result"
    }
   ],
   "source": [
    "np.max(stat, axis = 0) # gives the max value along the x axis"
   ]
  },
  {
   "cell_type": "code",
   "execution_count": 59,
   "id": "bc0768b0-2123-49bc-98c1-729948f3c325",
   "metadata": {},
   "outputs": [
    {
     "data": {
      "text/plain": [
       "array([3, 6])"
      ]
     },
     "execution_count": 59,
     "metadata": {},
     "output_type": "execute_result"
    }
   ],
   "source": [
    "np.max(stat, axis = 1) #gives the max value along the y axis"
   ]
  },
  {
   "cell_type": "code",
   "execution_count": 60,
   "id": "e030554a-7a9d-4a3b-9912-a4b322fdc083",
   "metadata": {},
   "outputs": [
    {
     "data": {
      "text/plain": [
       "array([5, 7, 9])"
      ]
     },
     "execution_count": 60,
     "metadata": {},
     "output_type": "execute_result"
    }
   ],
   "source": [
    "np.sum(stat, axis = 0)"
   ]
  },
  {
   "cell_type": "markdown",
   "id": "8fecb7cb-85fd-448b-8abc-924751e6509c",
   "metadata": {
    "jp-MarkdownHeadingCollapsed": true
   },
   "source": [
    "## Reorganizing array"
   ]
  },
  {
   "cell_type": "code",
   "execution_count": 64,
   "id": "86ab5dc8-c3ae-4601-b454-63b4c987d442",
   "metadata": {},
   "outputs": [
    {
     "name": "stdout",
     "output_type": "stream",
     "text": [
      "[[1 2 3 4 5 6]]\n"
     ]
    },
    {
     "data": {
      "text/plain": [
       "(1, 6)"
      ]
     },
     "execution_count": 64,
     "metadata": {},
     "output_type": "execute_result"
    }
   ],
   "source": [
    "# Reshape an array\n",
    "arr = np.array([[1,2,3],[4,5,6]])\n",
    "arr_reshape = arr.reshape((1,6))\n",
    "print(arr_reshape)\n",
    "arr_reshape.shape"
   ]
  },
  {
   "cell_type": "code",
   "execution_count": 71,
   "id": "93c81160-252a-46a4-80aa-87e10b65d72d",
   "metadata": {},
   "outputs": [
    {
     "name": "stdout",
     "output_type": "stream",
     "text": [
      "[[1 2 3 4]\n",
      " [5 6 7 8]\n",
      " [1 2 3 4]\n",
      " [5 6 7 8]\n",
      " [1 2 3 4]]\n"
     ]
    }
   ],
   "source": [
    "# vertical stack : one array onto another\n",
    "# one condition is that both the column size of the array should be same\n",
    "v1 = np.array([1,2,3,4])\n",
    "v2 = np.array([[5,6,7,8],[1,2,3,4]])\n",
    "v3 = np.vstack([v1,v2,v2]) #stack v1 on top of two v2s.\n",
    "print(v3)"
   ]
  },
  {
   "cell_type": "code",
   "execution_count": 78,
   "id": "4eb1e5e0-65c6-4a89-b387-d5e08465bf30",
   "metadata": {},
   "outputs": [
    {
     "name": "stdout",
     "output_type": "stream",
     "text": [
      "[[1 2 3 4 4 3 2 1]\n",
      " [5 6 7 8 8 7 6 5]]\n"
     ]
    }
   ],
   "source": [
    "# Horizontal stack\n",
    "v1 = np.array([[1,2,3,4],[5,6,7,8]])\n",
    "v2 = np.array([[4,3,2,1],[8,7,6,5]])\n",
    "v4 = np.hstack((v1,v2))\n",
    "print(v4)"
   ]
  },
  {
   "cell_type": "markdown",
   "id": "be07e6fa-f078-4ee1-9e1d-dd9471cc4cc4",
   "metadata": {
    "jp-MarkdownHeadingCollapsed": true
   },
   "source": [
    "## I/O Operations"
   ]
  },
  {
   "cell_type": "code",
   "execution_count": 79,
   "id": "be972727-d15e-449e-8799-4f55dad66a30",
   "metadata": {},
   "outputs": [
    {
     "name": "stdout",
     "output_type": "stream",
     "text": [
      "[[ 1  2  3  4  5  6  7  8  9 10]\n",
      " [11 12 13 14 15 16 17 18 19 20]\n",
      " [21 22 23 24 25 26 27 28 29 30]\n",
      " [31 32 33 34 35 36 37 38 39 40]]\n"
     ]
    }
   ],
   "source": [
    "# load data from a text file\n",
    "filedata = np.genfromtxt('data.txt', delimiter = ',')\n",
    "filedata = filedata.astype('int32')  # change the default value i.e., float to int32\n",
    "print(filedata)"
   ]
  },
  {
   "cell_type": "code",
   "execution_count": 81,
   "id": "05ba4e8c-d786-45f4-bd39-2e701e49ceb0",
   "metadata": {},
   "outputs": [
    {
     "data": {
      "text/plain": [
       "array([[False, False, False, False, False, False, False, False, False,\n",
       "        False],\n",
       "       [False, False, False, False, False, False, False, False, False,\n",
       "        False],\n",
       "       [ True,  True,  True,  True,  True,  True,  True,  True,  True,\n",
       "         True],\n",
       "       [ True,  True,  True,  True,  True,  True,  True,  True,  True,\n",
       "         True]])"
      ]
     },
     "execution_count": 81,
     "metadata": {},
     "output_type": "execute_result"
    }
   ],
   "source": [
    "# if filedata array contains > 20 value then return true otherwise false\n",
    "filedata > 20"
   ]
  },
  {
   "cell_type": "code",
   "execution_count": 83,
   "id": "bb532a55-5de5-4a62-84c8-4f7ec65298cd",
   "metadata": {},
   "outputs": [
    {
     "name": "stdout",
     "output_type": "stream",
     "text": [
      "[36 37 38 39 40]\n"
     ]
    }
   ],
   "source": [
    "# slice the desired values in an array\n",
    "file_larger_35 = filedata[filedata > 35]\n",
    "print(file_larger_35)"
   ]
  },
  {
   "cell_type": "code",
   "execution_count": 86,
   "id": "70e16b7c-4af8-4c6c-8884-767d87fa2815",
   "metadata": {},
   "outputs": [
    {
     "name": "stdout",
     "output_type": "stream",
     "text": [
      "[1 3 5 7]\n"
     ]
    }
   ],
   "source": [
    "# you can also index with a list in array\n",
    "array = np.array([1,2,3,4,5,6,7])\n",
    "slice = array[[0,2,4,6]]\n",
    "print(slice)"
   ]
  },
  {
   "cell_type": "code",
   "execution_count": null,
   "id": "2df0339b-0382-4561-8246-1060f73ca5f5",
   "metadata": {},
   "outputs": [],
   "source": []
  },
  {
   "cell_type": "code",
   "execution_count": 90,
   "id": "b5948c43-d448-4b39-a512-726243ca7af3",
   "metadata": {},
   "outputs": [
    {
     "data": {
      "text/plain": [
       "array([False, False, False, False, False,  True,  True,  True,  True,\n",
       "        True])"
      ]
     },
     "execution_count": 90,
     "metadata": {},
     "output_type": "execute_result"
    }
   ],
   "source": [
    "# if any column has value > 35\n",
    "np.any(filedata > 35, axis = 0)"
   ]
  },
  {
   "cell_type": "code",
   "execution_count": 92,
   "id": "748e654c-0ac6-48c8-bf91-0c2166e8c875",
   "metadata": {},
   "outputs": [
    {
     "data": {
      "text/plain": [
       "array([False, False, False,  True])"
      ]
     },
     "execution_count": 92,
     "metadata": {},
     "output_type": "execute_result"
    }
   ],
   "source": [
    "# if any row has value > 35\n",
    "np.any(filedata > 35, axis = 1)"
   ]
  },
  {
   "cell_type": "code",
   "execution_count": 94,
   "id": "81eb881d-adfa-4907-8352-c0545b85ae0b",
   "metadata": {},
   "outputs": [
    {
     "data": {
      "text/plain": [
       "array([False, False, False, False, False, False, False, False, False,\n",
       "        True])"
      ]
     },
     "execution_count": 94,
     "metadata": {},
     "output_type": "execute_result"
    }
   ],
   "source": [
    "# if all values in a column has value >= 10\n",
    "np.all(filedata >= 10, axis = 0)"
   ]
  },
  {
   "cell_type": "code",
   "execution_count": 95,
   "id": "c8bfbdf5-ae8e-4056-9070-bac3286f98df",
   "metadata": {},
   "outputs": [
    {
     "data": {
      "text/plain": [
       "array([False,  True,  True,  True])"
      ]
     },
     "execution_count": 95,
     "metadata": {},
     "output_type": "execute_result"
    }
   ],
   "source": [
    "# if all values in a row has value >= 10\n",
    "np.all(filedata >= 10, axis = 1)"
   ]
  },
  {
   "cell_type": "code",
   "execution_count": 98,
   "id": "de804e5a-89d1-423d-becf-4801dce41fcc",
   "metadata": {},
   "outputs": [
    {
     "data": {
      "text/plain": [
       "array([[False, False, False, False, False, False, False, False, False,\n",
       "        False],\n",
       "       [ True,  True,  True,  True,  True,  True,  True,  True,  True,\n",
       "        False],\n",
       "       [False, False, False, False, False, False, False, False, False,\n",
       "        False],\n",
       "       [False, False, False, False, False, False, False, False, False,\n",
       "        False]])"
      ]
     },
     "execution_count": 98,
     "metadata": {},
     "output_type": "execute_result"
    }
   ],
   "source": [
    "# filedata which has value > 10 but < 20\n",
    "((filedata > 10) & (filedata < 20))"
   ]
  },
  {
   "cell_type": "code",
   "execution_count": 99,
   "id": "a62070c2-315e-4d70-af80-62ac9c4469c1",
   "metadata": {},
   "outputs": [
    {
     "data": {
      "text/plain": [
       "array([[ True,  True,  True,  True,  True,  True,  True,  True,  True,\n",
       "         True],\n",
       "       [False, False, False, False, False, False, False, False, False,\n",
       "        False],\n",
       "       [False, False, False, False, False, False, False, False, False,\n",
       "        False],\n",
       "       [False, False, False, False, False, False, False, False, False,\n",
       "        False]])"
      ]
     },
     "execution_count": 99,
     "metadata": {},
     "output_type": "execute_result"
    }
   ],
   "source": [
    "# filedata which has not value > 10 but < 20\n",
    "(~(filedata > 10) & (filedata < 20))"
   ]
  },
  {
   "cell_type": "code",
   "execution_count": 102,
   "id": "fef12a36-b0d4-4aee-8d13-d1485dd60f0e",
   "metadata": {},
   "outputs": [
    {
     "data": {
      "text/plain": [
       "array([ 2, 13, 24, 35], dtype=int32)"
      ]
     },
     "execution_count": 102,
     "metadata": {},
     "output_type": "execute_result"
    }
   ],
   "source": [
    "# 2d array can also be accessed with lists\n",
    "filedata[[0,1,2,3],[1,2,3,4]]"
   ]
  },
  {
   "cell_type": "code",
   "execution_count": null,
   "id": "99740f84-052b-4c55-99bc-0d83360e4938",
   "metadata": {},
   "outputs": [],
   "source": []
  }
 ],
 "metadata": {
  "kernelspec": {
   "display_name": "Python 3 (ipykernel)",
   "language": "python",
   "name": "python3"
  },
  "language_info": {
   "codemirror_mode": {
    "name": "ipython",
    "version": 3
   },
   "file_extension": ".py",
   "mimetype": "text/x-python",
   "name": "python",
   "nbconvert_exporter": "python",
   "pygments_lexer": "ipython3",
   "version": "3.10.12"
  }
 },
 "nbformat": 4,
 "nbformat_minor": 5
}
