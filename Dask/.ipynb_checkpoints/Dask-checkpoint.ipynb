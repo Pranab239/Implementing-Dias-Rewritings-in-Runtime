{
 "cells": [
  {
   "cell_type": "code",
   "execution_count": 1,
   "id": "d1f9e1b5-313b-43f9-89f7-0781e33eb232",
   "metadata": {},
   "outputs": [],
   "source": [
    "import numpy as np"
   ]
  },
  {
   "cell_type": "code",
   "execution_count": 2,
   "id": "61b20a85-bdd4-4066-9cd2-7284ee4c6768",
   "metadata": {},
   "outputs": [
    {
     "ename": "MemoryError",
     "evalue": "Unable to allocate 7.28 TiB for an array with shape (10000, 10000, 10000) and data type float64",
     "output_type": "error",
     "traceback": [
      "\u001b[0;31m---------------------------------------------------------------------------\u001b[0m",
      "\u001b[0;31mMemoryError\u001b[0m                               Traceback (most recent call last)",
      "Cell \u001b[0;32mIn[2], line 2\u001b[0m\n\u001b[1;32m      1\u001b[0m \u001b[38;5;66;03m# The following numpy array will give MemoryError because of it's size\u001b[39;00m\n\u001b[0;32m----> 2\u001b[0m images \u001b[38;5;241m=\u001b[39m \u001b[43mnp\u001b[49m\u001b[38;5;241;43m.\u001b[39;49m\u001b[43mones\u001b[49m\u001b[43m(\u001b[49m\u001b[43m(\u001b[49m\u001b[38;5;241;43m10000\u001b[39;49m\u001b[43m,\u001b[49m\u001b[38;5;241;43m10000\u001b[39;49m\u001b[43m,\u001b[49m\u001b[38;5;241;43m10000\u001b[39;49m\u001b[43m)\u001b[49m\u001b[43m)\u001b[49m \u001b[38;5;66;03m# Creates a 3d array with given dimensions\u001b[39;00m\n\u001b[1;32m      3\u001b[0m images\n",
      "File \u001b[0;32m~/.local/lib/python3.10/site-packages/numpy/core/numeric.py:191\u001b[0m, in \u001b[0;36mones\u001b[0;34m(shape, dtype, order, like)\u001b[0m\n\u001b[1;32m    188\u001b[0m \u001b[38;5;28;01mif\u001b[39;00m like \u001b[38;5;129;01mis\u001b[39;00m \u001b[38;5;129;01mnot\u001b[39;00m \u001b[38;5;28;01mNone\u001b[39;00m:\n\u001b[1;32m    189\u001b[0m     \u001b[38;5;28;01mreturn\u001b[39;00m _ones_with_like(like, shape, dtype\u001b[38;5;241m=\u001b[39mdtype, order\u001b[38;5;241m=\u001b[39morder)\n\u001b[0;32m--> 191\u001b[0m a \u001b[38;5;241m=\u001b[39m \u001b[43mempty\u001b[49m\u001b[43m(\u001b[49m\u001b[43mshape\u001b[49m\u001b[43m,\u001b[49m\u001b[43m \u001b[49m\u001b[43mdtype\u001b[49m\u001b[43m,\u001b[49m\u001b[43m \u001b[49m\u001b[43morder\u001b[49m\u001b[43m)\u001b[49m\n\u001b[1;32m    192\u001b[0m multiarray\u001b[38;5;241m.\u001b[39mcopyto(a, \u001b[38;5;241m1\u001b[39m, casting\u001b[38;5;241m=\u001b[39m\u001b[38;5;124m'\u001b[39m\u001b[38;5;124munsafe\u001b[39m\u001b[38;5;124m'\u001b[39m)\n\u001b[1;32m    193\u001b[0m \u001b[38;5;28;01mreturn\u001b[39;00m a\n",
      "\u001b[0;31mMemoryError\u001b[0m: Unable to allocate 7.28 TiB for an array with shape (10000, 10000, 10000) and data type float64"
     ]
    }
   ],
   "source": [
    "# The following numpy array will give MemoryError because of it's size\n",
    "images = np.ones((10000,10000,10000)) # Creates a 3d array with given dimensions\n",
    "images"
   ]
  },
  {
   "cell_type": "code",
   "execution_count": null,
   "id": "2393ddcb-026b-44b8-9b69-58489e1b0f2d",
   "metadata": {},
   "outputs": [],
   "source": [
    "import dask.array as da"
   ]
  },
  {
   "cell_type": "code",
   "execution_count": null,
   "id": "0e65ecac-6b1e-4b63-8a10-0c0aafc07bcc",
   "metadata": {},
   "outputs": [],
   "source": [
    "images = da.ones((10000,10000,10000)) # Creates a 3d array with given dimensions\n",
    "images"
   ]
  },
  {
   "cell_type": "code",
   "execution_count": null,
   "id": "db28a640-144f-49fd-83e7-716a2278737a",
   "metadata": {},
   "outputs": [],
   "source": [
    "x = da.ones((100,), chunks=(10,))\n",
    "x"
   ]
  },
  {
   "cell_type": "code",
   "execution_count": null,
   "id": "a811d6c8-840a-4f38-a5bd-663825840f25",
   "metadata": {},
   "outputs": [],
   "source": [
    "result = x.sum()\n",
    "print(result.compute())"
   ]
  },
  {
   "cell_type": "code",
   "execution_count": null,
   "id": "bf8f6ae6-81bb-4cd3-be48-ab699db34804",
   "metadata": {},
   "outputs": [],
   "source": [
    "data = np.arange(100000).reshape(200, 500)\n",
    "a = da.from_array(data, chunks=(100, 100))\n",
    "a"
   ]
  },
  {
   "cell_type": "code",
   "execution_count": null,
   "id": "0026af83-b949-4e43-bc5a-852fbe3f9afa",
   "metadata": {},
   "outputs": [],
   "source": [
    "a.chunks"
   ]
  },
  {
   "cell_type": "code",
   "execution_count": null,
   "id": "6d37aad6-5628-4d29-a1e4-2a6a4760ee2d",
   "metadata": {},
   "outputs": [],
   "source": [
    "a.blocks[0, 4]"
   ]
  },
  {
   "cell_type": "code",
   "execution_count": null,
   "id": "91813d21-5082-46c3-998a-33a95c9b42d2",
   "metadata": {},
   "outputs": [],
   "source": [
    "# Create a Dask array\n",
    "a = da.from_array([[0, 20, 30], [40, 50, 60], [70, 80, 90]], chunks=(2, 2))\n",
    "print(a.compute())\n",
    "print(a.chunks)\n",
    "\n",
    "# Indexing to get a single element\n",
    "element = a[1, 2].compute()\n",
    "print(\"Single element:\", element)\n",
    "\n",
    "# Slicing along the first dimension\n",
    "slice_result = a[:1, 2].compute()\n",
    "print(\"Sliced along the first dimension:\\n\", slice_result)\n",
    "\n",
    "# Slicing along the second dimension\n",
    "slice_result = a[:, 1:].compute()\n",
    "print(\"Sliced along the second dimension:\\n\", slice_result)\n"
   ]
  },
  {
   "cell_type": "code",
   "execution_count": null,
   "id": "d6b83238-cbbb-4e19-8ad1-5ceefd78db18",
   "metadata": {},
   "outputs": [],
   "source": [
    "a.mean().compute()"
   ]
  },
  {
   "cell_type": "code",
   "execution_count": null,
   "id": "da0f87ba-faf9-4d42-a67f-64cacc258867",
   "metadata": {},
   "outputs": [],
   "source": [
    "result = a.sum()\n",
    "result.compute()"
   ]
  },
  {
   "cell_type": "code",
   "execution_count": null,
   "id": "92316bdd-e010-4957-8f9f-35de0bd5929f",
   "metadata": {},
   "outputs": [],
   "source": [
    "np.sin(a).compute()"
   ]
  },
  {
   "cell_type": "code",
   "execution_count": null,
   "id": "bb674cbb-b5e3-451b-90dd-ff33c5c327af",
   "metadata": {},
   "outputs": [],
   "source": [
    "a.T.compute()"
   ]
  },
  {
   "cell_type": "code",
   "execution_count": null,
   "id": "770a6966-6b68-4bff-9cec-b30f7bb172e1",
   "metadata": {},
   "outputs": [],
   "source": [
    "result_random = da.random.normal(size=(3, 3), chunks=(2, 2))\n",
    "print(\"\\nRandom Array:\\n\", result_random.compute())"
   ]
  },
  {
   "cell_type": "code",
   "execution_count": null,
   "id": "0166ed2f-b428-4837-b853-f50e2c34e4ff",
   "metadata": {},
   "outputs": [],
   "source": [
    "import dask.array as da\n",
    "\n",
    "# Create Dask arrays\n",
    "a = da.from_array([[1, 2, 3], [4, 5, 6], [7, 8, 9]], chunks=(2, 2))\n",
    "b = da.from_array([[9, 8, 7], [6, 5, 4], [3, 2, 1]], chunks=(2, 2))\n",
    "\n",
    "# Addition\n",
    "result_add = a + b\n",
    "print(\"Addition:\\n\", result_add.compute())\n",
    "\n",
    "# Element-wise multiplication\n",
    "result_multiply = a * b\n",
    "print(\"\\nElement-wise Multiplication:\\n\", result_multiply.compute())\n",
    "\n",
    "# Square root\n",
    "result_sqrt = da.sqrt(a)\n",
    "print(\"\\nSquare Root:\\n\", result_sqrt.compute())\n"
   ]
  },
  {
   "cell_type": "code",
   "execution_count": null,
   "id": "e8edbbc0-1361-4f5a-8565-7a5b22fd6b35",
   "metadata": {},
   "outputs": [],
   "source": [
    "# Reshape\n",
    "result_reshape = a.reshape((1, 9))\n",
    "print(\"Reshaped Array:\\n\", result_reshape.compute())\n",
    "\n",
    "# Transpose\n",
    "result_transpose = a.transpose()\n",
    "print(\"\\nTransposed Array:\\n\", result_transpose.compute())\n",
    "\n",
    "# Concatenate along rows\n",
    "result_concatenate_rows = da.concatenate([a, b], axis=0)\n",
    "print(\"\\nConcatenated along Rows:\\n\", result_concatenate_rows.compute())\n",
    "\n",
    "# Concatenate along columns\n",
    "result_concatenate_columns = da.concatenate([a, b], axis=1)\n",
    "print(\"\\nConcatenated along Columns:\\n\", result_concatenate_columns.compute())"
   ]
  },
  {
   "cell_type": "code",
   "execution_count": null,
   "id": "e61daa8c-cb01-49fd-82a3-09fae0316083",
   "metadata": {},
   "outputs": [],
   "source": [
    "# Sum\n",
    "result_sum = a.sum()\n",
    "print(\"Sum of Elements:\", result_sum.compute())\n",
    "\n",
    "# Mean\n",
    "result_mean = a.mean()\n",
    "print(\"\\nMean of Elements:\", result_mean.compute())\n",
    "\n",
    "# Maximum\n",
    "result_max = a.max()\n",
    "print(\"\\nMaximum Element:\", result_max.compute())"
   ]
  },
  {
   "cell_type": "code",
   "execution_count": null,
   "id": "2b2f3f17-2b71-44f8-a715-44d3a57d1ba9",
   "metadata": {},
   "outputs": [],
   "source": [
    "# Reshape\n",
    "result_reshape = a.reshape((1, 9))\n",
    "print(\"Reshaped Array:\\n\", result_reshape.compute())\n",
    "\n",
    "# Transpose\n",
    "result_transpose = a.transpose()\n",
    "print(\"\\nTransposed Array:\\n\", result_transpose.compute())\n",
    "\n",
    "# Concatenate along rows\n",
    "result_concatenate_rows = da.concatenate([a, b], axis=0)\n",
    "print(\"\\nConcatenated along Rows:\\n\", result_concatenate_rows.compute())\n",
    "\n",
    "# Concatenate along columns\n",
    "result_concatenate_columns = da.concatenate([a, b], axis=1)\n",
    "print(\"\\nConcatenated along Columns:\\n\", result_concatenate_columns.compute())"
   ]
  },
  {
   "cell_type": "code",
   "execution_count": null,
   "id": "d2a79d17-3b67-466c-b77d-680cc3a43244",
   "metadata": {},
   "outputs": [],
   "source": [
    "# Dot product\n",
    "result_dot = da.dot(a, b)\n",
    "print(\"Dot Product:\\n\", result_dot.compute())\n",
    "\n",
    "# Singular value decomposition\n",
    "result_svd = da.linalg.svd(a)\n",
    "print(\"\\nSingular Value Decomposition:\\n\", result_svd)"
   ]
  },
  {
   "cell_type": "code",
   "execution_count": null,
   "id": "a477cf66-b7d4-48d8-a30c-d2b71b55969e",
   "metadata": {},
   "outputs": [],
   "source": [
    "# Dot product\n",
    "result_dot = da.dot(a, b)\n",
    "print(\"Dot Product:\\n\", result_dot.compute())\n",
    "\n",
    "# Singular value decomposition (Not implemented in Dask)\n",
    "# Use NumPy for SVD\n",
    "import numpy as np\n",
    "u, s, vt = np.linalg.svd(a.compute())\n",
    "print(\"\\nSingular Value Decomposition (NumPy):\\n\", u, s, vt)\n"
   ]
  },
  {
   "cell_type": "code",
   "execution_count": null,
   "id": "9b5711a4-ed43-448e-9632-831dd6711509",
   "metadata": {},
   "outputs": [],
   "source": [
    "# Random normal distribution\n",
    "result_random_normal = da.random.normal(size=(3, 3), chunks=(2, 2))\n",
    "print(\"Random Normal Distribution:\\n\", result_random_normal.compute())\n",
    "\n",
    "# Random uniform distribution\n",
    "result_random_uniform = da.random.uniform(size=(3, 3), chunks=(2, 2))\n",
    "print(\"\\nRandom Uniform Distribution:\\n\", result_random_uniform.compute())"
   ]
  },
  {
   "cell_type": "code",
   "execution_count": null,
   "id": "f73b41f0-0c36-498e-9859-4c543f2d4e4a",
   "metadata": {},
   "outputs": [],
   "source": [
    "# Compute (force computation)\n",
    "result_compute = a.compute()\n",
    "print(\"Computed Array:\\n\", result_compute)\n",
    "\n",
    "# Persist (persist data in memory for future computations)\n",
    "a_persisted = a.persist()\n",
    "print(\"\\nArray Persisted:\", a_persisted)\n",
    "\n",
    "# Visualize (visualize the Dask computation graph)\n",
    "da.visualize(a, filename='dask_graph.png')"
   ]
  },
  {
   "cell_type": "code",
   "execution_count": null,
   "id": "dcd4c6f8-308c-4359-b4dc-a43bfd461ccb",
   "metadata": {},
   "outputs": [],
   "source": [
    "from dask.distributed import Client\n",
    "\n",
    "client = Client()\n",
    "client.persist(a)  # Persist the array in memory\n",
    "client.compute(a)  # Trigger computation\n",
    "\n",
    "# Now you can view the Dask dashboard in your web browser\n",
    "# The dashboard URL will be printed in the output\n",
    "print(client.dashboard_link)\n"
   ]
  },
  {
   "cell_type": "code",
   "execution_count": null,
   "id": "65e4be40-0723-402b-851e-1e57f2b9d49f",
   "metadata": {},
   "outputs": [],
   "source": [
    "a.std().compute()"
   ]
  },
  {
   "cell_type": "code",
   "execution_count": null,
   "id": "7124e406-0c6d-4d9b-93b4-d42439127bb4",
   "metadata": {},
   "outputs": [],
   "source": [
    "# Compute the standard deviation.\n",
    "result_std = a.std()\n",
    "print(result_std.compute())\n",
    "\n",
    "# Compute the variance.\n",
    "result_var = a.var()\n",
    "print(result_var.compute())\n",
    "\n",
    "# Indices of the minimum and maximum elements.\n",
    "result_argmin = a.argmin()\n",
    "result_argmax = a.argmax()\n",
    "print(result_argmin.compute())\n",
    "print(result_argmax.compute())"
   ]
  },
  {
   "cell_type": "code",
   "execution_count": null,
   "id": "5bc48386-e02f-4b77-8e09-387e39bad206",
   "metadata": {},
   "outputs": [],
   "source": [
    "a.dask"
   ]
  },
  {
   "cell_type": "code",
   "execution_count": null,
   "id": "881094b5-1faf-4aee-b42c-a16ad6df3a8e",
   "metadata": {},
   "outputs": [],
   "source": [
    "a.visualize()"
   ]
  },
  {
   "cell_type": "code",
   "execution_count": null,
   "id": "bc549444-1f82-4e7b-bc53-008494c38825",
   "metadata": {},
   "outputs": [],
   "source": [
    "import dask\n",
    "from dask import delayed\n",
    "\n",
    "@delayed\n",
    "def inc(x):\n",
    "    return x + 1\n",
    "\n",
    "@delayed\n",
    "def add(x, y):\n",
    "    return x + y\n",
    "\n",
    "a = inc(1)       # Delayed object representing inc(1)\n",
    "b = inc(2)       # Delayed object representing inc(2)\n",
    "c = add(a, b)    # Delayed object representing add(inc(1), inc(2))\n",
    "\n",
    "# At this point, no actual computation has happened.\n",
    "\n",
    "# To trigger the computation, you can use dask.compute or call compute on the result\n",
    "result = dask.compute(c)\n",
    "# or\n",
    "c_result = c.compute()\n",
    "\n",
    "# The result now contains the computed value of c\n",
    "print(result)\n"
   ]
  },
  {
   "cell_type": "code",
   "execution_count": null,
   "id": "831fed6c-3f97-49fb-8691-c2273e157b88",
   "metadata": {},
   "outputs": [],
   "source": [
    "from dask.distributed import Client\n",
    "\n",
    "client = Client()\n",
    "\n",
    "def inc(x):\n",
    "   return x + 1\n",
    "\n",
    "def add(x, y):\n",
    "   return x + y\n",
    "\n",
    "a = client.submit(inc, 1)     # work starts immediately\n",
    "b = client.submit(inc, 2)     # work starts immediately\n",
    "c = client.submit(add, a, b)  # work starts immediately\n",
    "\n",
    "c = c.result()                # block until work finishes, then gather result"
   ]
  },
  {
   "cell_type": "code",
   "execution_count": null,
   "id": "3f9142fa-a4ad-4703-93b2-4bba05d41de2",
   "metadata": {},
   "outputs": [],
   "source": [
    "from dask.distributed import Client\n",
    "client = Client()\n",
    "client"
   ]
  },
  {
   "cell_type": "code",
   "execution_count": 17,
   "id": "7bcbbfd9-63a7-4e90-acd0-a270c8f5be38",
   "metadata": {},
   "outputs": [
    {
     "data": {
      "text/plain": [
       "5050"
      ]
     },
     "execution_count": 17,
     "metadata": {},
     "output_type": "execute_result"
    }
   ],
   "source": [
    "import dask.array as da\n",
    "a = da.arange(101, chunks=(10,))\n",
    "a.sum().compute()"
   ]
  },
  {
   "cell_type": "code",
   "execution_count": 16,
   "id": "811b3a0f-1e35-42bb-a0cd-950a71b004ea",
   "metadata": {},
   "outputs": [
    {
     "data": {
      "text/plain": [
       "((10, 10, 10, 10, 10, 10, 10, 10, 10, 10),)"
      ]
     },
     "execution_count": 16,
     "metadata": {},
     "output_type": "execute_result"
    }
   ],
   "source": [
    "a.chunks"
   ]
  },
  {
   "cell_type": "code",
   "execution_count": 10,
   "id": "292860e7-93e1-4ff4-9cdc-3f0774a83594",
   "metadata": {},
   "outputs": [
    {
     "data": {
      "text/plain": [
       "((1,), (20, 20, 20, 20, 20))"
      ]
     },
     "execution_count": 10,
     "metadata": {},
     "output_type": "execute_result"
    }
   ],
   "source": [
    "b = a.rechunk(chunks = (1,20))\n",
    "b.chunks"
   ]
  },
  {
   "cell_type": "code",
   "execution_count": 25,
   "id": "fa92dacc-4e39-4635-a20c-828d1f8a64fe",
   "metadata": {},
   "outputs": [
    {
     "name": "stdout",
     "output_type": "stream",
     "text": [
      "Original Matrix x:\n",
      " [[ 1  2  3  4  5]\n",
      " [ 6  7  8  9 10]\n",
      " [11 12 13 14 15]\n",
      " [16 17 18 19 20]\n",
      " [21 22 23 24 25]]\n",
      "\n",
      "Selected Submatrix (x[::2, :3]):\n",
      " [[ 3  4  5]\n",
      " [13 14 15]\n",
      " [23 24 25]]\n"
     ]
    }
   ],
   "source": [
    "import numpy as np\n",
    "\n",
    "# Create a sample matrix x (5x5 for simplicity)\n",
    "x = np.array([[1, 2, 3, 4, 5],\n",
    "              [6, 7, 8, 9, 10],\n",
    "              [11, 12, 13, 14, 15],\n",
    "              [16, 17, 18, 19, 20],\n",
    "              [21, 22, 23, 24, 25]])\n",
    "\n",
    "# Select every second row and all columns starting from index 2\n",
    "# (since indexing is 0-based, 2 corresponds to the third row)\n",
    "submatrix = x[::2, 2:5]\n",
    "\n",
    "# Display the original matrix x\n",
    "print(\"Original Matrix x:\\n\", x)\n",
    "\n",
    "# Display the selected submatrix\n",
    "print(\"\\nSelected Submatrix (x[::2, :3]):\\n\", submatrix)\n"
   ]
  },
  {
   "cell_type": "code",
   "execution_count": null,
   "id": "735071ac-f3b3-4424-b9b5-796cc6a5bac0",
   "metadata": {},
   "outputs": [],
   "source": []
  }
 ],
 "metadata": {
  "kernelspec": {
   "display_name": "Python 3 (ipykernel)",
   "language": "python",
   "name": "python3"
  },
  "language_info": {
   "codemirror_mode": {
    "name": "ipython",
    "version": 3
   },
   "file_extension": ".py",
   "mimetype": "text/x-python",
   "name": "python",
   "nbconvert_exporter": "python",
   "pygments_lexer": "ipython3",
   "version": "3.10.12"
  }
 },
 "nbformat": 4,
 "nbformat_minor": 5
}
