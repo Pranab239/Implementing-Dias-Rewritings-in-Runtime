{
 "cells": [
  {
   "cell_type": "markdown",
   "id": "07d0fcf7",
   "metadata": {},
   "source": [
    "# Nsmallest Rule (Done)"
   ]
  },
  {
   "cell_type": "code",
   "execution_count": 1,
   "id": "9992e997",
   "metadata": {},
   "outputs": [
    {
     "name": "stdout",
     "output_type": "stream",
     "text": [
      "Defaulting to user installation because normal site-packages is not writeable\n",
      "Requirement already satisfied: dias in /home/pranab/.local/lib/python3.10/site-packages (0.1.1)\n",
      "Requirement already satisfied: pandas>=1.5.1 in /home/pranab/.local/lib/python3.10/site-packages (from dias) (2.2.1)\n",
      "Requirement already satisfied: astor>=0.8.1 in /home/pranab/.local/lib/python3.10/site-packages (from dias) (0.8.1)\n",
      "Requirement already satisfied: python-dateutil>=2.8.2 in /home/pranab/.local/lib/python3.10/site-packages (from pandas>=1.5.1->dias) (2.9.0.post0)\n",
      "Requirement already satisfied: numpy<2,>=1.22.4 in /home/pranab/.local/lib/python3.10/site-packages (from pandas>=1.5.1->dias) (1.22.4)\n",
      "Requirement already satisfied: pytz>=2020.1 in /usr/lib/python3/dist-packages (from pandas>=1.5.1->dias) (2022.1)\n",
      "Requirement already satisfied: tzdata>=2022.7 in /home/pranab/.local/lib/python3.10/site-packages (from pandas>=1.5.1->dias) (2024.1)\n",
      "Requirement already satisfied: six>=1.5 in /usr/lib/python3/dist-packages (from python-dateutil>=2.8.2->pandas>=1.5.1->dias) (1.16.0)\n",
      "Note: you may need to restart the kernel to use updated packages.\n"
     ]
    }
   ],
   "source": [
    "pip install dias"
   ]
  },
  {
   "cell_type": "code",
   "execution_count": 1,
   "id": "710bfc71",
   "metadata": {},
   "outputs": [],
   "source": [
    "import pandas as pd\n",
    "import dias.rewriter\n",
    "import numpy as np"
   ]
  },
  {
   "cell_type": "code",
   "execution_count": 2,
   "id": "a4ce97d5",
   "metadata": {},
   "outputs": [],
   "source": [
    "df = pd.read_csv('data.csv')"
   ]
  },
  {
   "cell_type": "code",
   "execution_count": 3,
   "id": "4e7f2ae4",
   "metadata": {},
   "outputs": [
    {
     "name": "stdout",
     "output_type": "stream",
     "text": [
      "(1000000, 3)\n",
      "<class 'pandas.core.frame.DataFrame'>\n",
      "RangeIndex: 1000000 entries, 0 to 999999\n",
      "Data columns (total 3 columns):\n",
      " #   Column           Non-Null Count    Dtype  \n",
      "---  ------           --------------    -----  \n",
      " 0   pickup_datetime  1000000 non-null  object \n",
      " 1   passenger_count  1000000 non-null  int64  \n",
      " 2   fare_amount      1000000 non-null  float64\n",
      "dtypes: float64(1), int64(1), object(1)\n",
      "memory usage: 22.9+ MB\n",
      "None\n"
     ]
    }
   ],
   "source": [
    "# For observing the speedup\n",
    "df = pd.concat([df] * 1, ignore_index=True)\n",
    "print(df.shape)\n",
    "print(df.info())"
   ]
  },
  {
   "cell_type": "code",
   "execution_count": 4,
   "id": "ceb4e4da",
   "metadata": {},
   "outputs": [
    {
     "data": {
      "text/html": [
       "<div>\n",
       "<style scoped>\n",
       "    .dataframe tbody tr th:only-of-type {\n",
       "        vertical-align: middle;\n",
       "    }\n",
       "\n",
       "    .dataframe tbody tr th {\n",
       "        vertical-align: top;\n",
       "    }\n",
       "\n",
       "    .dataframe thead th {\n",
       "        text-align: right;\n",
       "    }\n",
       "</style>\n",
       "<table border=\"1\" class=\"dataframe\">\n",
       "  <thead>\n",
       "    <tr style=\"text-align: right;\">\n",
       "      <th></th>\n",
       "      <th>pickup_datetime</th>\n",
       "      <th>passenger_count</th>\n",
       "      <th>fare_amount</th>\n",
       "    </tr>\n",
       "  </thead>\n",
       "  <tbody>\n",
       "    <tr>\n",
       "      <th>6</th>\n",
       "      <td>2008-09-01 07:45:36</td>\n",
       "      <td>1</td>\n",
       "      <td>73.751819</td>\n",
       "    </tr>\n",
       "    <tr>\n",
       "      <th>8</th>\n",
       "      <td>2008-03-16 15:53:41</td>\n",
       "      <td>1</td>\n",
       "      <td>42.352871</td>\n",
       "    </tr>\n",
       "    <tr>\n",
       "      <th>12</th>\n",
       "      <td>2008-06-07 09:36:29</td>\n",
       "      <td>1</td>\n",
       "      <td>7.837023</td>\n",
       "    </tr>\n",
       "    <tr>\n",
       "      <th>16</th>\n",
       "      <td>2008-06-29 18:03:27</td>\n",
       "      <td>1</td>\n",
       "      <td>89.051942</td>\n",
       "    </tr>\n",
       "    <tr>\n",
       "      <th>18</th>\n",
       "      <td>2008-11-11 20:06:03</td>\n",
       "      <td>1</td>\n",
       "      <td>32.169552</td>\n",
       "    </tr>\n",
       "  </tbody>\n",
       "</table>\n",
       "</div>"
      ],
      "text/plain": [
       "        pickup_datetime  passenger_count  fare_amount\n",
       "6   2008-09-01 07:45:36                1    73.751819\n",
       "8   2008-03-16 15:53:41                1    42.352871\n",
       "12  2008-06-07 09:36:29                1     7.837023\n",
       "16  2008-06-29 18:03:27                1    89.051942\n",
       "18  2008-11-11 20:06:03                1    32.169552"
      ]
     },
     "execution_count": 4,
     "metadata": {},
     "output_type": "execute_result"
    },
    {
     "data": {
      "text/markdown": [
       "\n",
       "### Dias rewrote code:\n",
       "<br />\n",
       "\n",
       "```python\n",
       "orig = df.nsmallest(n=5, columns='passenger_count')\n",
       "orig.head()\n",
       "\n",
       "```\n"
      ],
      "text/plain": [
       "<IPython.core.display.Markdown object>"
      ]
     },
     "metadata": {},
     "output_type": "display_data"
    },
    {
     "name": "stdout",
     "output_type": "stream",
     "text": [
      "CPU times: user 48.6 ms, sys: 17 ms, total: 65.5 ms\n",
      "Wall time: 64.7 ms\n"
     ]
    }
   ],
   "source": [
    "%%time\n",
    "# DIAS_VERBOSE\n",
    "orig = df.sort_values(by='passenger_count').head(n=5)\n",
    "orig.head()"
   ]
  },
  {
   "cell_type": "code",
   "execution_count": 5,
   "id": "6f938968",
   "metadata": {},
   "outputs": [
    {
     "data": {
      "text/html": [
       "<div>\n",
       "<style scoped>\n",
       "    .dataframe tbody tr th:only-of-type {\n",
       "        vertical-align: middle;\n",
       "    }\n",
       "\n",
       "    .dataframe tbody tr th {\n",
       "        vertical-align: top;\n",
       "    }\n",
       "\n",
       "    .dataframe thead th {\n",
       "        text-align: right;\n",
       "    }\n",
       "</style>\n",
       "<table border=\"1\" class=\"dataframe\">\n",
       "  <thead>\n",
       "    <tr style=\"text-align: right;\">\n",
       "      <th></th>\n",
       "      <th>pickup_datetime</th>\n",
       "      <th>passenger_count</th>\n",
       "      <th>fare_amount</th>\n",
       "    </tr>\n",
       "  </thead>\n",
       "  <tbody>\n",
       "    <tr>\n",
       "      <th>6</th>\n",
       "      <td>2008-09-01 07:45:36</td>\n",
       "      <td>1</td>\n",
       "      <td>73.751819</td>\n",
       "    </tr>\n",
       "    <tr>\n",
       "      <th>8</th>\n",
       "      <td>2008-03-16 15:53:41</td>\n",
       "      <td>1</td>\n",
       "      <td>42.352871</td>\n",
       "    </tr>\n",
       "    <tr>\n",
       "      <th>12</th>\n",
       "      <td>2008-06-07 09:36:29</td>\n",
       "      <td>1</td>\n",
       "      <td>7.837023</td>\n",
       "    </tr>\n",
       "    <tr>\n",
       "      <th>16</th>\n",
       "      <td>2008-06-29 18:03:27</td>\n",
       "      <td>1</td>\n",
       "      <td>89.051942</td>\n",
       "    </tr>\n",
       "    <tr>\n",
       "      <th>18</th>\n",
       "      <td>2008-11-11 20:06:03</td>\n",
       "      <td>1</td>\n",
       "      <td>32.169552</td>\n",
       "    </tr>\n",
       "  </tbody>\n",
       "</table>\n",
       "</div>"
      ],
      "text/plain": [
       "        pickup_datetime  passenger_count  fare_amount\n",
       "6   2008-09-01 07:45:36                1    73.751819\n",
       "8   2008-03-16 15:53:41                1    42.352871\n",
       "12  2008-06-07 09:36:29                1     7.837023\n",
       "16  2008-06-29 18:03:27                1    89.051942\n",
       "18  2008-11-11 20:06:03                1    32.169552"
      ]
     },
     "execution_count": 5,
     "metadata": {},
     "output_type": "execute_result"
    },
    {
     "name": "stdout",
     "output_type": "stream",
     "text": [
      "CPU times: user 48.5 ms, sys: 20.8 ms, total: 69.3 ms\n",
      "Wall time: 67.3 ms\n"
     ]
    }
   ],
   "source": [
    "%%time\n",
    "rewr = df.nsmallest(n=5, columns='passenger_count')\n",
    "rewr.head()"
   ]
  },
  {
   "cell_type": "code",
   "execution_count": 6,
   "id": "1fbd4682",
   "metadata": {},
   "outputs": [
    {
     "data": {
      "text/plain": [
       "True"
      ]
     },
     "execution_count": 6,
     "metadata": {},
     "output_type": "execute_result"
    }
   ],
   "source": [
    "# Checking if the two dataFrames are equal or not\n",
    "rewr.equals(orig)"
   ]
  },
  {
   "cell_type": "markdown",
   "id": "5d249f4c",
   "metadata": {},
   "source": [
    "# Split Rule"
   ]
  },
  {
   "cell_type": "code",
   "execution_count": 7,
   "id": "3b08ce61",
   "metadata": {},
   "outputs": [],
   "source": [
    "import random\n",
    "import string"
   ]
  },
  {
   "cell_type": "code",
   "execution_count": 8,
   "id": "15a8fcca",
   "metadata": {},
   "outputs": [],
   "source": [
    "df = pd.read_csv('data.csv');"
   ]
  },
  {
   "cell_type": "code",
   "execution_count": 9,
   "id": "f439be01",
   "metadata": {},
   "outputs": [
    {
     "name": "stdout",
     "output_type": "stream",
     "text": [
      "(1000000, 3)\n"
     ]
    }
   ],
   "source": [
    "# For observing the speedup\n",
    "df = pd.concat([df], ignore_index=True)\n",
    "print(df.shape)"
   ]
  },
  {
   "cell_type": "code",
   "execution_count": 10,
   "id": "d472891d",
   "metadata": {},
   "outputs": [],
   "source": [
    "# For testing of the split rule\n",
    "df['Name'] = 'pranab paul'"
   ]
  },
  {
   "cell_type": "code",
   "execution_count": 11,
   "id": "63f8417d",
   "metadata": {},
   "outputs": [
    {
     "data": {
      "text/html": [
       "<div>\n",
       "<style scoped>\n",
       "    .dataframe tbody tr th:only-of-type {\n",
       "        vertical-align: middle;\n",
       "    }\n",
       "\n",
       "    .dataframe tbody tr th {\n",
       "        vertical-align: top;\n",
       "    }\n",
       "\n",
       "    .dataframe thead th {\n",
       "        text-align: right;\n",
       "    }\n",
       "</style>\n",
       "<table border=\"1\" class=\"dataframe\">\n",
       "  <thead>\n",
       "    <tr style=\"text-align: right;\">\n",
       "      <th></th>\n",
       "      <th>pickup_datetime</th>\n",
       "      <th>passenger_count</th>\n",
       "      <th>fare_amount</th>\n",
       "      <th>Name</th>\n",
       "    </tr>\n",
       "  </thead>\n",
       "  <tbody>\n",
       "    <tr>\n",
       "      <th>0</th>\n",
       "      <td>2008-09-01 00:24:32</td>\n",
       "      <td>4</td>\n",
       "      <td>2.061686</td>\n",
       "      <td>pranab paul</td>\n",
       "    </tr>\n",
       "    <tr>\n",
       "      <th>1</th>\n",
       "      <td>2008-08-14 07:54:35</td>\n",
       "      <td>3</td>\n",
       "      <td>92.563364</td>\n",
       "      <td>pranab paul</td>\n",
       "    </tr>\n",
       "    <tr>\n",
       "      <th>2</th>\n",
       "      <td>2008-12-01 23:25:00</td>\n",
       "      <td>4</td>\n",
       "      <td>80.756279</td>\n",
       "      <td>pranab paul</td>\n",
       "    </tr>\n",
       "    <tr>\n",
       "      <th>3</th>\n",
       "      <td>2008-05-13 22:23:04</td>\n",
       "      <td>3</td>\n",
       "      <td>67.995379</td>\n",
       "      <td>pranab paul</td>\n",
       "    </tr>\n",
       "    <tr>\n",
       "      <th>4</th>\n",
       "      <td>2008-10-18 01:52:48</td>\n",
       "      <td>2</td>\n",
       "      <td>33.261559</td>\n",
       "      <td>pranab paul</td>\n",
       "    </tr>\n",
       "  </tbody>\n",
       "</table>\n",
       "</div>"
      ],
      "text/plain": [
       "       pickup_datetime  passenger_count  fare_amount         Name\n",
       "0  2008-09-01 00:24:32                4     2.061686  pranab paul\n",
       "1  2008-08-14 07:54:35                3    92.563364  pranab paul\n",
       "2  2008-12-01 23:25:00                4    80.756279  pranab paul\n",
       "3  2008-05-13 22:23:04                3    67.995379  pranab paul\n",
       "4  2008-10-18 01:52:48                2    33.261559  pranab paul"
      ]
     },
     "execution_count": 11,
     "metadata": {},
     "output_type": "execute_result"
    }
   ],
   "source": [
    "df.head()"
   ]
  },
  {
   "cell_type": "code",
   "execution_count": 12,
   "id": "acde438a",
   "metadata": {},
   "outputs": [
    {
     "name": "stdout",
     "output_type": "stream",
     "text": [
      "CPU times: user 1.38 s, sys: 120 ms, total: 1.5 s\n",
      "Wall time: 1.5 s\n"
     ]
    }
   ],
   "source": [
    "%%time\n",
    "# DIAS_DISABLE\n",
    "df[['First_Name', 'Last_Name']] = df['Name'].str.split(' ', expand=True)"
   ]
  },
  {
   "cell_type": "code",
   "execution_count": 13,
   "id": "731351d3",
   "metadata": {},
   "outputs": [
    {
     "data": {
      "text/html": [
       "<div>\n",
       "<style scoped>\n",
       "    .dataframe tbody tr th:only-of-type {\n",
       "        vertical-align: middle;\n",
       "    }\n",
       "\n",
       "    .dataframe tbody tr th {\n",
       "        vertical-align: top;\n",
       "    }\n",
       "\n",
       "    .dataframe thead th {\n",
       "        text-align: right;\n",
       "    }\n",
       "</style>\n",
       "<table border=\"1\" class=\"dataframe\">\n",
       "  <thead>\n",
       "    <tr style=\"text-align: right;\">\n",
       "      <th></th>\n",
       "      <th>pickup_datetime</th>\n",
       "      <th>passenger_count</th>\n",
       "      <th>fare_amount</th>\n",
       "      <th>Name</th>\n",
       "      <th>First_Name</th>\n",
       "      <th>Last_Name</th>\n",
       "    </tr>\n",
       "  </thead>\n",
       "  <tbody>\n",
       "    <tr>\n",
       "      <th>0</th>\n",
       "      <td>2008-09-01 00:24:32</td>\n",
       "      <td>4</td>\n",
       "      <td>2.061686</td>\n",
       "      <td>pranab paul</td>\n",
       "      <td>pranab</td>\n",
       "      <td>paul</td>\n",
       "    </tr>\n",
       "    <tr>\n",
       "      <th>1</th>\n",
       "      <td>2008-08-14 07:54:35</td>\n",
       "      <td>3</td>\n",
       "      <td>92.563364</td>\n",
       "      <td>pranab paul</td>\n",
       "      <td>pranab</td>\n",
       "      <td>paul</td>\n",
       "    </tr>\n",
       "    <tr>\n",
       "      <th>2</th>\n",
       "      <td>2008-12-01 23:25:00</td>\n",
       "      <td>4</td>\n",
       "      <td>80.756279</td>\n",
       "      <td>pranab paul</td>\n",
       "      <td>pranab</td>\n",
       "      <td>paul</td>\n",
       "    </tr>\n",
       "    <tr>\n",
       "      <th>3</th>\n",
       "      <td>2008-05-13 22:23:04</td>\n",
       "      <td>3</td>\n",
       "      <td>67.995379</td>\n",
       "      <td>pranab paul</td>\n",
       "      <td>pranab</td>\n",
       "      <td>paul</td>\n",
       "    </tr>\n",
       "    <tr>\n",
       "      <th>4</th>\n",
       "      <td>2008-10-18 01:52:48</td>\n",
       "      <td>2</td>\n",
       "      <td>33.261559</td>\n",
       "      <td>pranab paul</td>\n",
       "      <td>pranab</td>\n",
       "      <td>paul</td>\n",
       "    </tr>\n",
       "  </tbody>\n",
       "</table>\n",
       "</div>"
      ],
      "text/plain": [
       "       pickup_datetime  passenger_count  fare_amount         Name First_Name  \\\n",
       "0  2008-09-01 00:24:32                4     2.061686  pranab paul     pranab   \n",
       "1  2008-08-14 07:54:35                3    92.563364  pranab paul     pranab   \n",
       "2  2008-12-01 23:25:00                4    80.756279  pranab paul     pranab   \n",
       "3  2008-05-13 22:23:04                3    67.995379  pranab paul     pranab   \n",
       "4  2008-10-18 01:52:48                2    33.261559  pranab paul     pranab   \n",
       "\n",
       "  Last_Name  \n",
       "0      paul  \n",
       "1      paul  \n",
       "2      paul  \n",
       "3      paul  \n",
       "4      paul  "
      ]
     },
     "execution_count": 13,
     "metadata": {},
     "output_type": "execute_result"
    }
   ],
   "source": [
    "df.head()"
   ]
  },
  {
   "cell_type": "code",
   "execution_count": 14,
   "id": "6a3496b2",
   "metadata": {},
   "outputs": [
    {
     "data": {
      "text/markdown": [
       "\n",
       "### Dias rewrote code:\n",
       "<br />\n",
       "\n",
       "```python\n",
       "if type(df['Name']) != pd.Series:\n",
       "    df[['FirstName', 'LastName']] = df['Name'].str.split(' ', expand=True)\n",
       "else:\n",
       "    _REWR_targ_0 = []\n",
       "    _REWR_targ_1 = []\n",
       "    _REWR_ls = df['Name'].tolist()\n",
       "    for _REWR_s in _REWR_ls:\n",
       "        _REWR_spl = _REWR_s.split(' ')\n",
       "        _REWR_targ_0.append(_REWR_spl[0])\n",
       "        _REWR_targ_1.append(_REWR_spl[1] if len(_REWR_spl) > 1 else None)\n",
       "    df['FirstName'] = _REWR_targ_0\n",
       "    df['LastName'] = _REWR_targ_1\n",
       "\n",
       "```\n"
      ],
      "text/plain": [
       "<IPython.core.display.Markdown object>"
      ]
     },
     "metadata": {},
     "output_type": "display_data"
    },
    {
     "name": "stdout",
     "output_type": "stream",
     "text": [
      "CPU times: user 371 ms, sys: 9.78 ms, total: 381 ms\n",
      "Wall time: 380 ms\n"
     ]
    }
   ],
   "source": [
    "%%time\n",
    "# DIAS_VERBOSE\n",
    "df[['FirstName', 'LastName']] = df['Name'].str.split(' ', expand=True)"
   ]
  },
  {
   "cell_type": "code",
   "execution_count": 15,
   "id": "1f3500f9",
   "metadata": {},
   "outputs": [
    {
     "data": {
      "text/html": [
       "<div>\n",
       "<style scoped>\n",
       "    .dataframe tbody tr th:only-of-type {\n",
       "        vertical-align: middle;\n",
       "    }\n",
       "\n",
       "    .dataframe tbody tr th {\n",
       "        vertical-align: top;\n",
       "    }\n",
       "\n",
       "    .dataframe thead th {\n",
       "        text-align: right;\n",
       "    }\n",
       "</style>\n",
       "<table border=\"1\" class=\"dataframe\">\n",
       "  <thead>\n",
       "    <tr style=\"text-align: right;\">\n",
       "      <th></th>\n",
       "      <th>pickup_datetime</th>\n",
       "      <th>passenger_count</th>\n",
       "      <th>fare_amount</th>\n",
       "      <th>Name</th>\n",
       "      <th>First_Name</th>\n",
       "      <th>Last_Name</th>\n",
       "      <th>FirstName</th>\n",
       "      <th>LastName</th>\n",
       "    </tr>\n",
       "  </thead>\n",
       "  <tbody>\n",
       "    <tr>\n",
       "      <th>0</th>\n",
       "      <td>2008-09-01 00:24:32</td>\n",
       "      <td>4</td>\n",
       "      <td>2.061686</td>\n",
       "      <td>pranab paul</td>\n",
       "      <td>pranab</td>\n",
       "      <td>paul</td>\n",
       "      <td>pranab</td>\n",
       "      <td>paul</td>\n",
       "    </tr>\n",
       "    <tr>\n",
       "      <th>1</th>\n",
       "      <td>2008-08-14 07:54:35</td>\n",
       "      <td>3</td>\n",
       "      <td>92.563364</td>\n",
       "      <td>pranab paul</td>\n",
       "      <td>pranab</td>\n",
       "      <td>paul</td>\n",
       "      <td>pranab</td>\n",
       "      <td>paul</td>\n",
       "    </tr>\n",
       "    <tr>\n",
       "      <th>2</th>\n",
       "      <td>2008-12-01 23:25:00</td>\n",
       "      <td>4</td>\n",
       "      <td>80.756279</td>\n",
       "      <td>pranab paul</td>\n",
       "      <td>pranab</td>\n",
       "      <td>paul</td>\n",
       "      <td>pranab</td>\n",
       "      <td>paul</td>\n",
       "    </tr>\n",
       "    <tr>\n",
       "      <th>3</th>\n",
       "      <td>2008-05-13 22:23:04</td>\n",
       "      <td>3</td>\n",
       "      <td>67.995379</td>\n",
       "      <td>pranab paul</td>\n",
       "      <td>pranab</td>\n",
       "      <td>paul</td>\n",
       "      <td>pranab</td>\n",
       "      <td>paul</td>\n",
       "    </tr>\n",
       "    <tr>\n",
       "      <th>4</th>\n",
       "      <td>2008-10-18 01:52:48</td>\n",
       "      <td>2</td>\n",
       "      <td>33.261559</td>\n",
       "      <td>pranab paul</td>\n",
       "      <td>pranab</td>\n",
       "      <td>paul</td>\n",
       "      <td>pranab</td>\n",
       "      <td>paul</td>\n",
       "    </tr>\n",
       "  </tbody>\n",
       "</table>\n",
       "</div>"
      ],
      "text/plain": [
       "       pickup_datetime  passenger_count  fare_amount         Name First_Name  \\\n",
       "0  2008-09-01 00:24:32                4     2.061686  pranab paul     pranab   \n",
       "1  2008-08-14 07:54:35                3    92.563364  pranab paul     pranab   \n",
       "2  2008-12-01 23:25:00                4    80.756279  pranab paul     pranab   \n",
       "3  2008-05-13 22:23:04                3    67.995379  pranab paul     pranab   \n",
       "4  2008-10-18 01:52:48                2    33.261559  pranab paul     pranab   \n",
       "\n",
       "  Last_Name FirstName LastName  \n",
       "0      paul    pranab     paul  \n",
       "1      paul    pranab     paul  \n",
       "2      paul    pranab     paul  \n",
       "3      paul    pranab     paul  \n",
       "4      paul    pranab     paul  "
      ]
     },
     "execution_count": 15,
     "metadata": {},
     "output_type": "execute_result"
    }
   ],
   "source": [
    "df.head()"
   ]
  },
  {
   "cell_type": "code",
   "execution_count": 16,
   "id": "4618978f",
   "metadata": {},
   "outputs": [
    {
     "data": {
      "text/plain": [
       "True"
      ]
     },
     "execution_count": 16,
     "metadata": {},
     "output_type": "execute_result"
    }
   ],
   "source": [
    "df['First_Name'].equals(df['FirstName'])"
   ]
  },
  {
   "cell_type": "markdown",
   "id": "ebaaa5e9",
   "metadata": {},
   "source": [
    "# Concatenate pandas series (Done)"
   ]
  },
  {
   "cell_type": "code",
   "execution_count": 17,
   "id": "3814f64e",
   "metadata": {
    "scrolled": true
   },
   "outputs": [
    {
     "data": {
      "text/plain": [
       "0          pranab\n",
       "1          pranab\n",
       "2          pranab\n",
       "3          pranab\n",
       "4          pranab\n",
       "            ...  \n",
       "1999995      paul\n",
       "1999996      paul\n",
       "1999997      paul\n",
       "1999998      paul\n",
       "1999999      paul\n",
       "Length: 2000000, dtype: object"
      ]
     },
     "execution_count": 17,
     "metadata": {},
     "output_type": "execute_result"
    },
    {
     "data": {
      "text/markdown": [
       "\n",
       "### Dias rewrote code:\n",
       "<br />\n",
       "\n",
       "```python\n",
       "pd.concat([df['FirstName'], df['LastName']], ignore_index=True)\n",
       "\n",
       "```\n"
      ],
      "text/plain": [
       "<IPython.core.display.Markdown object>"
      ]
     },
     "metadata": {},
     "output_type": "display_data"
    },
    {
     "name": "stdout",
     "output_type": "stream",
     "text": [
      "CPU times: user 40.3 ms, sys: 8.13 ms, total: 48.4 ms\n",
      "Wall time: 47.1 ms\n"
     ]
    }
   ],
   "source": [
    "%%time\n",
    "# DIAS_VERBOSE\n",
    "pd.Series(df['FirstName'].tolist() + df['LastName'].tolist())"
   ]
  },
  {
   "cell_type": "code",
   "execution_count": 18,
   "id": "ed940c25",
   "metadata": {},
   "outputs": [
    {
     "data": {
      "text/plain": [
       "0               pranab\n",
       "1               pranab\n",
       "2               pranab\n",
       "3               pranab\n",
       "4               pranab\n",
       "              ...     \n",
       "2999995    pranab paul\n",
       "2999996    pranab paul\n",
       "2999997    pranab paul\n",
       "2999998    pranab paul\n",
       "2999999    pranab paul\n",
       "Length: 3000000, dtype: object"
      ]
     },
     "execution_count": 18,
     "metadata": {},
     "output_type": "execute_result"
    },
    {
     "data": {
      "text/markdown": [
       "### Dias did not rewrite code"
      ],
      "text/plain": [
       "<IPython.core.display.Markdown object>"
      ]
     },
     "metadata": {},
     "output_type": "display_data"
    },
    {
     "name": "stdout",
     "output_type": "stream",
     "text": [
      "CPU times: user 354 ms, sys: 52.9 ms, total: 407 ms\n",
      "Wall time: 404 ms\n"
     ]
    }
   ],
   "source": [
    "%%time\n",
    "# DIAS_VERBOSE\n",
    "pd.Series(df['FirstName'].tolist() + df['LastName'].tolist() + df['Name'].tolist())"
   ]
  },
  {
   "cell_type": "markdown",
   "id": "c3dec8e5",
   "metadata": {},
   "source": [
    "# Rewriting Function"
   ]
  },
  {
   "cell_type": "code",
   "execution_count": 20,
   "id": "09fc09a0",
   "metadata": {},
   "outputs": [],
   "source": [
    "dataF = pd.read_csv('data.csv');"
   ]
  },
  {
   "cell_type": "code",
   "execution_count": 21,
   "id": "653f8f6d",
   "metadata": {},
   "outputs": [],
   "source": [
    "m = 50\n",
    "C = 5.6"
   ]
  },
  {
   "cell_type": "code",
   "execution_count": 22,
   "id": "8ce736ab",
   "metadata": {},
   "outputs": [
    {
     "name": "stdout",
     "output_type": "stream",
     "text": [
      "CPU times: user 5.26 s, sys: 67.7 ms, total: 5.32 s\n",
      "Wall time: 5.32 s\n"
     ]
    }
   ],
   "source": [
    "%%time\n",
    "# DIAS_DISABLE\n",
    "def weighted_rating(x, m=m, C=C):\n",
    "    v = x['passenger_count']\n",
    "    R = x['fare_amount']\n",
    "    return (v/(v+m) * R) + (m/(m+v) * C)\n",
    "orig = dataF.apply(weighted_rating, axis=1)"
   ]
  },
  {
   "cell_type": "code",
   "execution_count": 23,
   "id": "4794eb90",
   "metadata": {},
   "outputs": [
    {
     "data": {
      "text/markdown": [
       "\n",
       "### Dias rewrote code:\n",
       "<br />\n",
       "\n",
       "```python\n",
       "def weighted_rating(x, m=m, C=C):\n",
       "    v = x['passenger_count']\n",
       "    R = x['fare_amount']\n",
       "    return v / (v + m) * R + m / (m + v) * C\n",
       "rewr = weighted_rating(dataF)\n",
       "\n",
       "```\n"
      ],
      "text/plain": [
       "<IPython.core.display.Markdown object>"
      ]
     },
     "metadata": {},
     "output_type": "display_data"
    },
    {
     "name": "stdout",
     "output_type": "stream",
     "text": [
      "CPU times: user 28.5 ms, sys: 0 ns, total: 28.5 ms\n",
      "Wall time: 28.3 ms\n"
     ]
    }
   ],
   "source": [
    "%%time\n",
    "# DIAS_VERBOSE\n",
    "def weighted_rating(x, m=m, C=C):\n",
    "    v = x['passenger_count']\n",
    "    R = x['fare_amount']\n",
    "    return (v/(v+m) * R) + (m/(m+v) * C)\n",
    "rewr = dataF.apply(weighted_rating, axis=1)"
   ]
  },
  {
   "cell_type": "code",
   "execution_count": 24,
   "id": "db25a603",
   "metadata": {},
   "outputs": [
    {
     "data": {
      "text/plain": [
       "True"
      ]
     },
     "execution_count": 24,
     "metadata": {},
     "output_type": "execute_result"
    }
   ],
   "source": [
    "rewr.equals(orig)"
   ]
  },
  {
   "cell_type": "markdown",
   "id": "138a0b51",
   "metadata": {},
   "source": [
    "# Lambda Function"
   ]
  },
  {
   "cell_type": "code",
   "execution_count": 25,
   "id": "d1ddbfc6",
   "metadata": {},
   "outputs": [],
   "source": [
    "import pandas as pd\n",
    "import numpy as np\n",
    "from ast import literal_eval\n",
    "import dias.rewriter"
   ]
  },
  {
   "cell_type": "code",
   "execution_count": 26,
   "id": "f33d808f",
   "metadata": {},
   "outputs": [
    {
     "name": "stdout",
     "output_type": "stream",
     "text": [
      "(4000, 24)\n"
     ]
    }
   ],
   "source": [
    "md = pd.read_csv('rounakbanik__movie-recommender-systems__movies_metadata.csv', low_memory=False)\n",
    "print(md.shape)"
   ]
  },
  {
   "cell_type": "code",
   "execution_count": 27,
   "id": "46e657c5",
   "metadata": {},
   "outputs": [
    {
     "name": "stdout",
     "output_type": "stream",
     "text": [
      "CPU times: user 403 ms, sys: 12 ms, total: 415 ms\n",
      "Wall time: 420 ms\n"
     ]
    }
   ],
   "source": [
    "%%time\n",
    "# DIAS_DISABLE\n",
    "defa = md.apply(lambda x: pd.Series(x['genres']),axis=1).stack().reset_index(level=1, drop=True)"
   ]
  },
  {
   "cell_type": "markdown",
   "id": "545cf1ea",
   "metadata": {},
   "source": [
    "### Fetching the series earlier and apply the lambda function on the series only not on dataframe"
   ]
  },
  {
   "cell_type": "code",
   "execution_count": 28,
   "id": "fc5c6224",
   "metadata": {},
   "outputs": [
    {
     "data": {
      "text/markdown": [
       "\n",
       "### Dias rewrote code:\n",
       "<br />\n",
       "\n",
       "```python\n",
       "defa = md['genres'].apply(lambda x: pd.Series(x)).stack().reset_index(level\n",
       "    =1, drop=True)\n",
       "\n",
       "```\n"
      ],
      "text/plain": [
       "<IPython.core.display.Markdown object>"
      ]
     },
     "metadata": {},
     "output_type": "display_data"
    },
    {
     "name": "stdout",
     "output_type": "stream",
     "text": [
      "CPU times: user 264 ms, sys: 2.68 ms, total: 267 ms\n",
      "Wall time: 266 ms\n"
     ]
    }
   ],
   "source": [
    "%%time\n",
    "# DIAS_VERBOSE\n",
    "defa = md.apply(lambda x: pd.Series(x['genres']),axis=1).stack().reset_index(level=1, drop=True)"
   ]
  },
  {
   "cell_type": "code",
   "execution_count": null,
   "id": "8df751e6",
   "metadata": {},
   "outputs": [],
   "source": []
  },
  {
   "cell_type": "code",
   "execution_count": 29,
   "id": "f1bb86d7",
   "metadata": {},
   "outputs": [],
   "source": [
    "import numpy as np\n",
    "import pandas as pd\n",
    "import dias.rewriter"
   ]
  },
  {
   "cell_type": "code",
   "execution_count": 30,
   "id": "db19f230",
   "metadata": {},
   "outputs": [],
   "source": [
    "df = pd.read_csv(\"spscientist__student-performance-in-exams__StudentsPerformance.csv\")"
   ]
  },
  {
   "cell_type": "code",
   "execution_count": 31,
   "id": "7cb0fdc7",
   "metadata": {},
   "outputs": [
    {
     "data": {
      "text/plain": [
       "(1000, 8)"
      ]
     },
     "execution_count": 31,
     "metadata": {},
     "output_type": "execute_result"
    }
   ],
   "source": [
    "df.shape"
   ]
  },
  {
   "cell_type": "code",
   "execution_count": 32,
   "id": "5aafc162",
   "metadata": {},
   "outputs": [
    {
     "name": "stdout",
     "output_type": "stream",
     "text": [
      "<class 'pandas.core.frame.DataFrame'>\n",
      "Index: 100000 entries, 0 to 999\n",
      "Data columns (total 8 columns):\n",
      " #   Column                       Non-Null Count   Dtype \n",
      "---  ------                       --------------   ----- \n",
      " 0   gender                       100000 non-null  object\n",
      " 1   race/ethnicity               100000 non-null  object\n",
      " 2   parental level of education  100000 non-null  object\n",
      " 3   lunch                        100000 non-null  object\n",
      " 4   test preparation course      100000 non-null  object\n",
      " 5   math score                   100000 non-null  int64 \n",
      " 6   reading score                100000 non-null  int64 \n",
      " 7   writing score                100000 non-null  int64 \n",
      "dtypes: int64(3), object(5)\n",
      "memory usage: 6.9+ MB\n"
     ]
    }
   ],
   "source": [
    "factor = 100\n",
    "df = pd.concat([df]*factor)\n",
    "df.info()"
   ]
  },
  {
   "cell_type": "code",
   "execution_count": 33,
   "id": "ba36e49e",
   "metadata": {},
   "outputs": [],
   "source": [
    "passmark = 40\n",
    "df['Math_PassStatus'] = np.where(df['math score']<passmark, 'F', 'P')\n",
    "df['Reading_PassStatus'] = np.where(df['reading score']<passmark, 'F', 'P')\n",
    "df['Writing_PassStatus'] = np.where(df['writing score']<passmark, 'F', 'P')"
   ]
  },
  {
   "cell_type": "code",
   "execution_count": 34,
   "id": "37c84168",
   "metadata": {},
   "outputs": [
    {
     "name": "stdout",
     "output_type": "stream",
     "text": [
      "CPU times: user 15.2 ms, sys: 1.93 ms, total: 17.1 ms\n",
      "Wall time: 16.9 ms\n"
     ]
    }
   ],
   "source": [
    "%%time\n",
    "# DISABLE_DIAS\n",
    "defa = df.apply(lambda x : 'F' if x['Math_PassStatus'] == 'F' or \n",
    "                x['Reading_PassStatus'] == 'F' or x['Writing_PassStatus'] == 'F' else 'P', axis =1)"
   ]
  },
  {
   "cell_type": "code",
   "execution_count": 35,
   "id": "872c3c4d",
   "metadata": {},
   "outputs": [
    {
     "data": {
      "text/markdown": [
       "\n",
       "### Dias rewrote code:\n",
       "<br />\n",
       "\n",
       "```python\n",
       "def _REWR_apply_vec(df):\n",
       "    if type(df) == pd.DataFrame:\n",
       "        return pd.Series(np.select([(df['Math_PassStatus'] == 'F') | (df[\n",
       "            'Reading_PassStatus'] == 'F') | (df['Writing_PassStatus'] ==\n",
       "            'F')], ['F'], default='P'))\n",
       "    else:\n",
       "        return df.apply(lambda x: 'F' if x['Math_PassStatus'] == 'F' or x[\n",
       "            'Reading_PassStatus'] == 'F' or x['Writing_PassStatus'] == 'F' else\n",
       "            'P', axis=1)\n",
       "defa = _REWR_apply_vec(df)\n",
       "\n",
       "```\n"
      ],
      "text/plain": [
       "<IPython.core.display.Markdown object>"
      ]
     },
     "metadata": {},
     "output_type": "display_data"
    },
    {
     "name": "stdout",
     "output_type": "stream",
     "text": [
      "CPU times: user 17.6 ms, sys: 184 µs, total: 17.8 ms\n",
      "Wall time: 17.1 ms\n"
     ]
    }
   ],
   "source": [
    "%%time\n",
    "# DIAS_VERBOSE\n",
    "defa = df.apply(lambda x : 'F' if x['Math_PassStatus'] == 'F' or \n",
    "                x['Reading_PassStatus'] == 'F' or x['Writing_PassStatus'] == 'F' else 'P', axis =1)"
   ]
  },
  {
   "cell_type": "code",
   "execution_count": null,
   "id": "90eb1519",
   "metadata": {},
   "outputs": [],
   "source": []
  },
  {
   "cell_type": "code",
   "execution_count": 36,
   "id": "801fc501",
   "metadata": {},
   "outputs": [],
   "source": [
    "import numpy as np\n",
    "import pandas as pd\n",
    "import dias.rewriter"
   ]
  },
  {
   "cell_type": "code",
   "execution_count": 37,
   "id": "06b3a3b2",
   "metadata": {},
   "outputs": [],
   "source": [
    "df = pd.read_csv('titanic.csv')"
   ]
  },
  {
   "cell_type": "code",
   "execution_count": 38,
   "id": "ad597378",
   "metadata": {},
   "outputs": [
    {
     "name": "stdout",
     "output_type": "stream",
     "text": [
      "CPU times: user 3.09 ms, sys: 0 ns, total: 3.09 ms\n",
      "Wall time: 2.54 ms\n"
     ]
    }
   ],
   "source": [
    "%%time\n",
    "# DIAS_DISABLE\n",
    "defa = pd.read_csv('titanic.csv')['Name'].apply(lambda s: 'G' in s)"
   ]
  },
  {
   "cell_type": "code",
   "execution_count": 39,
   "id": "be28ec72",
   "metadata": {},
   "outputs": [
    {
     "data": {
      "text/markdown": [
       "### Dias did not rewrite code"
      ],
      "text/plain": [
       "<IPython.core.display.Markdown object>"
      ]
     },
     "metadata": {},
     "output_type": "display_data"
    },
    {
     "name": "stdout",
     "output_type": "stream",
     "text": [
      "CPU times: user 5.28 ms, sys: 0 ns, total: 5.28 ms\n",
      "Wall time: 4.76 ms\n"
     ]
    }
   ],
   "source": [
    "%%time\n",
    "# DIAS_VERBOSE\n",
    "our = pd.read_csv('titanic.csv')['Name'].apply(lambda s: 'G' in s)"
   ]
  },
  {
   "cell_type": "markdown",
   "id": "ab2fc6c2",
   "metadata": {},
   "source": [
    "# nSmallest rule with in a function (Done)"
   ]
  },
  {
   "cell_type": "code",
   "execution_count": 40,
   "id": "0d79ff1f",
   "metadata": {},
   "outputs": [],
   "source": [
    "import pandas as pd\n",
    "import numpy as np\n",
    "import dias.rewriter"
   ]
  },
  {
   "cell_type": "code",
   "execution_count": 41,
   "id": "72f305e6",
   "metadata": {},
   "outputs": [
    {
     "name": "stdout",
     "output_type": "stream",
     "text": [
      "   A  B\n",
      "0  2  3\n",
      "1  1  4\n",
      "2  2  3\n",
      "3  1  4\n",
      "4  2  3\n"
     ]
    }
   ],
   "source": [
    "df = pd.DataFrame({'A': [2, 1], 'B': [3, 4]})\n",
    "df = pd.concat([df] * 5, ignore_index=True)\n",
    "print(df.head())"
   ]
  },
  {
   "cell_type": "code",
   "execution_count": 42,
   "id": "d05c6d13",
   "metadata": {},
   "outputs": [
    {
     "name": "stdout",
     "output_type": "stream",
     "text": [
      "<class 'pandas.core.frame.DataFrame'>\n",
      "RangeIndex: 10 entries, 0 to 9\n",
      "Data columns (total 2 columns):\n",
      " #   Column  Non-Null Count  Dtype\n",
      "---  ------  --------------  -----\n",
      " 0   A       10 non-null     int64\n",
      " 1   B       10 non-null     int64\n",
      "dtypes: int64(2)\n",
      "memory usage: 288.0 bytes\n"
     ]
    }
   ],
   "source": [
    "df.info()"
   ]
  },
  {
   "cell_type": "code",
   "execution_count": 43,
   "id": "cf59451d",
   "metadata": {},
   "outputs": [
    {
     "data": {
      "text/markdown": [
       "\n",
       "### Dias rewrote code:\n",
       "<br />\n",
       "\n",
       "```python\n",
       "def foo():\n",
       "    y = 2\n",
       "    return df['A'].nsmallest(n=y)\n",
       "our = foo()\n",
       "\n",
       "```\n"
      ],
      "text/plain": [
       "<IPython.core.display.Markdown object>"
      ]
     },
     "metadata": {},
     "output_type": "display_data"
    },
    {
     "name": "stdout",
     "output_type": "stream",
     "text": [
      "CPU times: user 1.58 ms, sys: 998 µs, total: 2.58 ms\n",
      "Wall time: 2.34 ms\n"
     ]
    }
   ],
   "source": [
    "%%time\n",
    "# DIAS_VERBOSE\n",
    "def foo():\n",
    "    y = 2\n",
    "    return df['A'].sort_values().head(n=y)\n",
    "    \n",
    "our = foo()"
   ]
  },
  {
   "cell_type": "code",
   "execution_count": 44,
   "id": "e47e6f06",
   "metadata": {},
   "outputs": [
    {
     "data": {
      "text/plain": [
       "886    False\n",
       "887     True\n",
       "888    False\n",
       "889    False\n",
       "890    False\n",
       "Name: Name, dtype: bool"
      ]
     },
     "execution_count": 44,
     "metadata": {},
     "output_type": "execute_result"
    }
   ],
   "source": [
    "defa.tail()"
   ]
  },
  {
   "cell_type": "markdown",
   "id": "b121e7f9",
   "metadata": {},
   "source": [
    "# nSmallest with particular column (Done)"
   ]
  },
  {
   "cell_type": "code",
   "execution_count": 45,
   "id": "7b66cb52",
   "metadata": {},
   "outputs": [],
   "source": [
    "import pandas as pd\n",
    "import numpy as np\n",
    "import dias.rewriter"
   ]
  },
  {
   "cell_type": "code",
   "execution_count": 46,
   "id": "4cf0231e",
   "metadata": {},
   "outputs": [],
   "source": [
    "df = pd.DataFrame({'A': [2, 1], 'B': [3, 4]})\n",
    "df = pd.concat([df] * 2, ignore_index=True)"
   ]
  },
  {
   "cell_type": "code",
   "execution_count": 47,
   "id": "0ffd108e",
   "metadata": {},
   "outputs": [
    {
     "data": {
      "text/plain": [
       "(4, 2)"
      ]
     },
     "execution_count": 47,
     "metadata": {},
     "output_type": "execute_result"
    }
   ],
   "source": [
    "df.shape"
   ]
  },
  {
   "cell_type": "code",
   "execution_count": 48,
   "id": "29f01a10",
   "metadata": {},
   "outputs": [
    {
     "data": {
      "text/html": [
       "<div>\n",
       "<style scoped>\n",
       "    .dataframe tbody tr th:only-of-type {\n",
       "        vertical-align: middle;\n",
       "    }\n",
       "\n",
       "    .dataframe tbody tr th {\n",
       "        vertical-align: top;\n",
       "    }\n",
       "\n",
       "    .dataframe thead th {\n",
       "        text-align: right;\n",
       "    }\n",
       "</style>\n",
       "<table border=\"1\" class=\"dataframe\">\n",
       "  <thead>\n",
       "    <tr style=\"text-align: right;\">\n",
       "      <th></th>\n",
       "      <th>A</th>\n",
       "      <th>B</th>\n",
       "    </tr>\n",
       "  </thead>\n",
       "  <tbody>\n",
       "    <tr>\n",
       "      <th>0</th>\n",
       "      <td>2</td>\n",
       "      <td>3</td>\n",
       "    </tr>\n",
       "    <tr>\n",
       "      <th>1</th>\n",
       "      <td>1</td>\n",
       "      <td>4</td>\n",
       "    </tr>\n",
       "    <tr>\n",
       "      <th>2</th>\n",
       "      <td>2</td>\n",
       "      <td>3</td>\n",
       "    </tr>\n",
       "    <tr>\n",
       "      <th>3</th>\n",
       "      <td>1</td>\n",
       "      <td>4</td>\n",
       "    </tr>\n",
       "  </tbody>\n",
       "</table>\n",
       "</div>"
      ],
      "text/plain": [
       "   A  B\n",
       "0  2  3\n",
       "1  1  4\n",
       "2  2  3\n",
       "3  1  4"
      ]
     },
     "execution_count": 48,
     "metadata": {},
     "output_type": "execute_result"
    }
   ],
   "source": [
    "df.head()"
   ]
  },
  {
   "cell_type": "code",
   "execution_count": 49,
   "id": "373af103",
   "metadata": {},
   "outputs": [
    {
     "data": {
      "text/markdown": [
       "\n",
       "### Dias rewrote code:\n",
       "<br />\n",
       "\n",
       "```python\n",
       "our = df['A'].nsmallest(n=5)\n",
       "\n",
       "```\n"
      ],
      "text/plain": [
       "<IPython.core.display.Markdown object>"
      ]
     },
     "metadata": {},
     "output_type": "display_data"
    }
   ],
   "source": [
    "# DIAS_VERBOSE\n",
    "our = df['A'].sort_values().head(5)"
   ]
  },
  {
   "cell_type": "code",
   "execution_count": 50,
   "id": "c26e4352",
   "metadata": {},
   "outputs": [
    {
     "data": {
      "text/plain": [
       "1    1\n",
       "3    1\n",
       "0    2\n",
       "2    2\n",
       "Name: A, dtype: int64"
      ]
     },
     "execution_count": 50,
     "metadata": {},
     "output_type": "execute_result"
    }
   ],
   "source": [
    "our.head()"
   ]
  },
  {
   "cell_type": "markdown",
   "id": "c2870981",
   "metadata": {},
   "source": [
    "# Replace Rule (Done)"
   ]
  },
  {
   "cell_type": "code",
   "execution_count": 1,
   "id": "03d1f7f0",
   "metadata": {},
   "outputs": [],
   "source": [
    "import pandas as pd\n",
    "import numpy as np\n",
    "import dias.rewriter"
   ]
  },
  {
   "cell_type": "code",
   "execution_count": 10,
   "id": "f7f710ad",
   "metadata": {},
   "outputs": [
    {
     "name": "stdout",
     "output_type": "stream",
     "text": [
      "<class 'pandas.core.frame.DataFrame'>\n",
      "RangeIndex: 61950000 entries, 0 to 61949999\n",
      "Data columns (total 3 columns):\n",
      " #   Column  Dtype \n",
      "---  ------  ----- \n",
      " 0   tier    int64 \n",
      " 1   rank    int64 \n",
      " 2   name    object\n",
      "dtypes: int64(2), object(1)\n",
      "memory usage: 1.4+ GB\n"
     ]
    }
   ],
   "source": [
    "popul_df = pd.read_csv(\"ampiiere__animal-crossing-villager-popularity-analysis__acnh_villager_data.csv\")\n",
    "popul_df = pd.concat([popul_df] * 150000, ignore_index=True)\n",
    "popul_df.info()"
   ]
  },
  {
   "cell_type": "code",
   "execution_count": 21,
   "id": "c4fb048e",
   "metadata": {},
   "outputs": [
    {
     "data": {
      "text/html": [
       "<div>\n",
       "<style scoped>\n",
       "    .dataframe tbody tr th:only-of-type {\n",
       "        vertical-align: middle;\n",
       "    }\n",
       "\n",
       "    .dataframe tbody tr th {\n",
       "        vertical-align: top;\n",
       "    }\n",
       "\n",
       "    .dataframe thead th {\n",
       "        text-align: right;\n",
       "    }\n",
       "</style>\n",
       "<table border=\"1\" class=\"dataframe\">\n",
       "  <thead>\n",
       "    <tr style=\"text-align: right;\">\n",
       "      <th></th>\n",
       "      <th>tier</th>\n",
       "      <th>rank</th>\n",
       "      <th>name</th>\n",
       "    </tr>\n",
       "  </thead>\n",
       "  <tbody>\n",
       "    <tr>\n",
       "      <th>0</th>\n",
       "      <td>1</td>\n",
       "      <td>1</td>\n",
       "      <td>Raymond</td>\n",
       "    </tr>\n",
       "    <tr>\n",
       "      <th>1</th>\n",
       "      <td>1</td>\n",
       "      <td>2</td>\n",
       "      <td>Marshal</td>\n",
       "    </tr>\n",
       "    <tr>\n",
       "      <th>2</th>\n",
       "      <td>1</td>\n",
       "      <td>3</td>\n",
       "      <td>Shino</td>\n",
       "    </tr>\n",
       "    <tr>\n",
       "      <th>3</th>\n",
       "      <td>1</td>\n",
       "      <td>4</td>\n",
       "      <td>Sherb</td>\n",
       "    </tr>\n",
       "    <tr>\n",
       "      <th>4</th>\n",
       "      <td>1</td>\n",
       "      <td>5</td>\n",
       "      <td>Sasha</td>\n",
       "    </tr>\n",
       "  </tbody>\n",
       "</table>\n",
       "</div>"
      ],
      "text/plain": [
       "   tier  rank     name\n",
       "0     1     1  Raymond\n",
       "1     1     2  Marshal\n",
       "2     1     3    Shino\n",
       "3     1     4    Sherb\n",
       "4     1     5    Sasha"
      ]
     },
     "execution_count": 21,
     "metadata": {},
     "output_type": "execute_result"
    }
   ],
   "source": [
    "popul_df.head()"
   ]
  },
  {
   "cell_type": "code",
   "execution_count": 23,
   "id": "cbfc27c9",
   "metadata": {},
   "outputs": [
    {
     "name": "stderr",
     "output_type": "stream",
     "text": [
      "/tmp/ipykernel_49441/1736224758.py:1: FutureWarning: A value is trying to be set on a copy of a DataFrame or Series through chained assignment using an inplace method.\n",
      "The behavior will change in pandas 3.0. This inplace method will never work because the intermediate object on which we are setting values always behaves as a copy.\n",
      "\n",
      "For example, when doing 'df[col].method(value, inplace=True)', try using 'df.method({col: value}, inplace=True)' or df[col] = df[col].method(value) instead, to perform the operation inplace on the original object.\n",
      "\n",
      "\n",
      "  popul_df['name'].replace('Marshal', 'Mars', inplace=True)\n"
     ]
    }
   ],
   "source": [
    "popul_df['name'] = popul_df['name'].replace(['Marshal'],\"Mars\")"
   ]
  },
  {
   "cell_type": "code",
   "execution_count": 22,
   "id": "4e1e4242",
   "metadata": {},
   "outputs": [
    {
     "data": {
      "text/markdown": [
       "### Dias did not rewrite code"
      ],
      "text/plain": [
       "<IPython.core.display.Markdown object>"
      ]
     },
     "metadata": {},
     "output_type": "display_data"
    }
   ],
   "source": [
    "# DIAS_VERBOSE\n",
    "# Repeat for correctness\n",
    "# popul_df = pd.read_csv(\"./datasets/ampiiere__animal-crossing-villager-popularity-analysis__acnh_villager_data.csv\")\n",
    "popul_df['name'] = popul_df['name'].replace(['Marshal','Raymond'],\"Mars\")\n",
    "# popul_df['name'].replace('Marshal', 'Mars', inplace=True)"
   ]
  },
  {
   "cell_type": "code",
   "execution_count": null,
   "id": "8cb5e48c",
   "metadata": {},
   "outputs": [],
   "source": [
    "popul_df.head()"
   ]
  },
  {
   "cell_type": "markdown",
   "id": "15954159",
   "metadata": {},
   "source": [
    "# Another Rule"
   ]
  },
  {
   "cell_type": "code",
   "execution_count": null,
   "id": "bb1dafa2",
   "metadata": {},
   "outputs": [],
   "source": [
    "import pandas as pd\n",
    "import dias.rewriter"
   ]
  },
  {
   "cell_type": "code",
   "execution_count": null,
   "id": "bcfcca63",
   "metadata": {},
   "outputs": [],
   "source": [
    "df = pd.read_csv('titanic.csv')"
   ]
  },
  {
   "cell_type": "code",
   "execution_count": null,
   "id": "e4305971",
   "metadata": {},
   "outputs": [],
   "source": [
    "df.head()"
   ]
  },
  {
   "cell_type": "code",
   "execution_count": null,
   "id": "8e6492c6",
   "metadata": {},
   "outputs": [],
   "source": [
    "# DIAS_VERBOSE\n",
    "# Repeat for correctness testing\n",
    "default_num_tickets = len(df['Ticket'].unique())\n",
    "# default_num_cabins = len(df['Cabin'].unique())"
   ]
  },
  {
   "cell_type": "markdown",
   "id": "2f6a3749",
   "metadata": {},
   "source": [
    "# Fuse_in Rule (Done)"
   ]
  },
  {
   "cell_type": "code",
   "execution_count": 24,
   "id": "119746e5",
   "metadata": {},
   "outputs": [],
   "source": [
    "import numpy as np\n",
    "import pandas as pd\n",
    "import dias.rewriter"
   ]
  },
  {
   "cell_type": "code",
   "execution_count": 25,
   "id": "5f9d39ca",
   "metadata": {},
   "outputs": [],
   "source": [
    "file = 'kkhandekar__environmental-vs-ai-startups-india-eda__Startup_Counts_Across_India.csv'\n",
    "df = pd.read_csv(file)\n",
    "df = pd.concat([df] * 6000, ignore_index=True)"
   ]
  },
  {
   "cell_type": "code",
   "execution_count": 26,
   "id": "c276295b",
   "metadata": {},
   "outputs": [
    {
     "name": "stdout",
     "output_type": "stream",
     "text": [
      "<class 'pandas.core.frame.DataFrame'>\n",
      "RangeIndex: 35346000 entries, 0 to 35345999\n",
      "Data columns (total 5 columns):\n",
      " #   Column    Dtype \n",
      "---  ------    ----- \n",
      " 0   S No.     int64 \n",
      " 1   Year      int64 \n",
      " 2   State     object\n",
      " 3   Industry  object\n",
      " 4   Count     int64 \n",
      "dtypes: int64(3), object(2)\n",
      "memory usage: 1.3+ GB\n"
     ]
    }
   ],
   "source": [
    "df.info()"
   ]
  },
  {
   "cell_type": "code",
   "execution_count": 28,
   "id": "295cdb98",
   "metadata": {},
   "outputs": [
    {
     "name": "stdout",
     "output_type": "stream",
     "text": [
      "CPU times: user 927 µs, sys: 360 µs, total: 1.29 ms\n",
      "Wall time: 1.29 ms\n"
     ]
    }
   ],
   "source": [
    "%%time\n",
    "# Industry sub-categories for environmental & AI startups\n",
    "env = ['Agriculture','Renewable Energy']\n",
    "ai = ['AI','Robotics','Computer Vision']\n",
    "waste = ['Waste Management']"
   ]
  },
  {
   "cell_type": "code",
   "execution_count": 29,
   "id": "6b7a25bf",
   "metadata": {},
   "outputs": [
    {
     "data": {
      "text/markdown": [
       "\n",
       "### Dias rewrote code:\n",
       "<br />\n",
       "\n",
       "```python\n",
       "our = df.loc[df['Industry'].isin(env + ai) | df['Industry'].isin(waste)\n",
       "    ].reset_index(drop=True)\n",
       "\n",
       "```\n"
      ],
      "text/plain": [
       "<IPython.core.display.Markdown object>"
      ]
     },
     "metadata": {},
     "output_type": "display_data"
    },
    {
     "name": "stdout",
     "output_type": "stream",
     "text": [
      "CPU times: user 1.13 s, sys: 150 ms, total: 1.28 s\n",
      "Wall time: 1.28 s\n"
     ]
    }
   ],
   "source": [
    "%%time\n",
    "# DIAS_VERBOSE\n",
    "our = df.loc[(df['Industry'].isin(env)) | (df['Industry'].isin(ai)) | df['Industry'].isin(waste)].reset_index(drop=True)"
   ]
  },
  {
   "cell_type": "code",
   "execution_count": 30,
   "id": "b3f702e3",
   "metadata": {},
   "outputs": [
    {
     "data": {
      "text/markdown": [
       "\n",
       "### Dias rewrote code:\n",
       "<br />\n",
       "\n",
       "```python\n",
       "our = df.loc[df['Industry'].isin(env + ai)].reset_index(drop=True)\n",
       "\n",
       "```\n"
      ],
      "text/plain": [
       "<IPython.core.display.Markdown object>"
      ]
     },
     "metadata": {},
     "output_type": "display_data"
    },
    {
     "name": "stdout",
     "output_type": "stream",
     "text": [
      "CPU times: user 929 ms, sys: 106 ms, total: 1.04 s\n",
      "Wall time: 1.03 s\n"
     ]
    }
   ],
   "source": [
    "%%time\n",
    "# DIAS_VERBOSE\n",
    "our = df.loc[(df['Industry'].isin(env)) | (df['Industry'].isin(ai))].reset_index(drop=True)"
   ]
  },
  {
   "cell_type": "code",
   "execution_count": null,
   "id": "74087aed",
   "metadata": {},
   "outputs": [],
   "source": [
    "our"
   ]
  },
  {
   "cell_type": "markdown",
   "id": "d6bc1b90",
   "metadata": {},
   "source": [
    "# Fuse replace and unique"
   ]
  },
  {
   "cell_type": "code",
   "execution_count": null,
   "id": "084fb005",
   "metadata": {},
   "outputs": [],
   "source": [
    "import pandas as pd\n",
    "import dias.rewriter"
   ]
  },
  {
   "cell_type": "code",
   "execution_count": null,
   "id": "c09764b3",
   "metadata": {},
   "outputs": [],
   "source": [
    "%%time\n",
    "# DIAS_VERBOSE\n",
    "df = pd.read_csv('titanic.csv')\n",
    "df = pd.concat([df] * 50000, ignore_index=True)\n",
    "df.info()\n",
    "# # DIAS_VERBOSE\n",
    "# our = pd.Series(df['Name'].tolist() + df['Ticket'].tolist())\n",
    "# print(our.tail())"
   ]
  },
  {
   "cell_type": "code",
   "execution_count": null,
   "id": "06cbeaad",
   "metadata": {},
   "outputs": [],
   "source": []
  }
 ],
 "metadata": {
  "kernelspec": {
   "display_name": "Python 3 (ipykernel)",
   "language": "python",
   "name": "python3"
  },
  "language_info": {
   "codemirror_mode": {
    "name": "ipython",
    "version": 3
   },
   "file_extension": ".py",
   "mimetype": "text/x-python",
   "name": "python",
   "nbconvert_exporter": "python",
   "pygments_lexer": "ipython3",
   "version": "3.10.12"
  }
 },
 "nbformat": 4,
 "nbformat_minor": 5
}
