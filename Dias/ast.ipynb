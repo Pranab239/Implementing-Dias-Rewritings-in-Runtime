{
 "cells": [
  {
   "cell_type": "code",
   "execution_count": 1,
   "id": "9f94880d",
   "metadata": {},
   "outputs": [
    {
     "name": "stdout",
     "output_type": "stream",
     "text": [
      "Defaulting to user installation because normal site-packages is not writeable\n",
      "Requirement already satisfied: astpretty in /home/pranab/.local/lib/python3.10/site-packages (3.0.0)\n",
      "Note: you may need to restart the kernel to use updated packages.\n"
     ]
    }
   ],
   "source": [
    "pip install astpretty"
   ]
  },
  {
   "cell_type": "code",
   "execution_count": 3,
   "id": "20c370c7",
   "metadata": {},
   "outputs": [
    {
     "name": "stdout",
     "output_type": "stream",
     "text": [
      "Module(\n",
      "    body=[\n",
      "        Assign(\n",
      "            lineno=1,\n",
      "            col_offset=0,\n",
      "            end_lineno=1,\n",
      "            end_col_offset=13,\n",
      "            targets=[Name(lineno=1, col_offset=0, end_lineno=1, end_col_offset=1, id='x', ctx=Store())],\n",
      "            value=BinOp(\n",
      "                lineno=1,\n",
      "                col_offset=4,\n",
      "                end_lineno=1,\n",
      "                end_col_offset=13,\n",
      "                left=Constant(lineno=1, col_offset=4, end_lineno=1, end_col_offset=5, value=1, kind=None),\n",
      "                op=Add(),\n",
      "                right=BinOp(\n",
      "                    lineno=1,\n",
      "                    col_offset=8,\n",
      "                    end_lineno=1,\n",
      "                    end_col_offset=13,\n",
      "                    left=Constant(lineno=1, col_offset=8, end_lineno=1, end_col_offset=9, value=2, kind=None),\n",
      "                    op=Mult(),\n",
      "                    right=Constant(lineno=1, col_offset=12, end_lineno=1, end_col_offset=13, value=3, kind=None),\n",
      "                ),\n",
      "            ),\n",
      "            type_comment=None,\n",
      "        ),\n",
      "    ],\n",
      "    type_ignores=[],\n",
      ")\n"
     ]
    }
   ],
   "source": [
    "import ast\n",
    "import astpretty\n",
    "\n",
    "code = \"x = 1 + 2 * 3\"\n",
    "tree = ast.parse(code)\n",
    "\n",
    "# Visualize the AST as a tree\n",
    "astpretty.pprint(tree)"
   ]
  },
  {
   "cell_type": "code",
   "execution_count": null,
   "id": "9b56673d",
   "metadata": {},
   "outputs": [],
   "source": []
  }
 ],
 "metadata": {
  "kernelspec": {
   "display_name": "Python 3 (ipykernel)",
   "language": "python",
   "name": "python3"
  },
  "language_info": {
   "codemirror_mode": {
    "name": "ipython",
    "version": 3
   },
   "file_extension": ".py",
   "mimetype": "text/x-python",
   "name": "python",
   "nbconvert_exporter": "python",
   "pygments_lexer": "ipython3",
   "version": "3.10.12"
  }
 },
 "nbformat": 4,
 "nbformat_minor": 5
}
